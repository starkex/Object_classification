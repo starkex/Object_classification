{
 "cells": [
  {
   "cell_type": "code",
   "execution_count": 1,
   "id": "composite-december",
   "metadata": {},
   "outputs": [
    {
     "ename": "SyntaxError",
     "evalue": "invalid syntax (<ipython-input-1-e5bde8f49af4>, line 2)",
     "output_type": "error",
     "traceback": [
      "\u001b[1;36m  File \u001b[1;32m\"<ipython-input-1-e5bde8f49af4>\"\u001b[1;36m, line \u001b[1;32m2\u001b[0m\n\u001b[1;33m    from keras,preprocessing import image\u001b[0m\n\u001b[1;37m              ^\u001b[0m\n\u001b[1;31mSyntaxError\u001b[0m\u001b[1;31m:\u001b[0m invalid syntax\n"
     ]
    }
   ],
   "source": [
    "from keras.applications.resnet50 import ResNet50\n",
    "from keras,preprocessing import image\n",
    "from keras.applications.resnet50 import preprocess_input, decode_predictions\n",
    "import numpy as np\n"
   ]
  },
  {
   "cell_type": "code",
   "execution_count": 2,
   "id": "quiet-infrastructure",
   "metadata": {},
   "outputs": [],
   "source": [
    "from keras.applications.resnet50 import ResNet50\n",
    "from keras.preprocessing import image\n",
    "from keras.applications.resnet50 import preprocess_input, decode_predictions\n",
    "import numpy as np"
   ]
  },
  {
   "cell_type": "code",
   "execution_count": 3,
   "id": "environmental-constitutional",
   "metadata": {},
   "outputs": [
    {
     "ename": "NameError",
     "evalue": "name 'tf' is not defined",
     "output_type": "error",
     "traceback": [
      "\u001b[1;31m---------------------------------------------------------------------------\u001b[0m",
      "\u001b[1;31mNameError\u001b[0m                                 Traceback (most recent call last)",
      "\u001b[1;32m<ipython-input-3-79cf2626eaec>\u001b[0m in \u001b[0;36m<module>\u001b[1;34m\u001b[0m\n\u001b[1;32m----> 1\u001b[1;33m tf.keras.applications.ResNet50(\n\u001b[0m\u001b[0;32m      2\u001b[0m     \u001b[0minclude_top\u001b[0m\u001b[1;33m=\u001b[0m\u001b[1;32mTrue\u001b[0m\u001b[1;33m,\u001b[0m\u001b[1;33m\u001b[0m\u001b[1;33m\u001b[0m\u001b[0m\n\u001b[0;32m      3\u001b[0m     \u001b[0mweights\u001b[0m\u001b[1;33m=\u001b[0m\u001b[1;34m\"imagenet\"\u001b[0m\u001b[1;33m,\u001b[0m\u001b[1;33m\u001b[0m\u001b[1;33m\u001b[0m\u001b[0m\n\u001b[0;32m      4\u001b[0m     \u001b[0minput_tensor\u001b[0m\u001b[1;33m=\u001b[0m\u001b[1;32mNone\u001b[0m\u001b[1;33m,\u001b[0m\u001b[1;33m\u001b[0m\u001b[1;33m\u001b[0m\u001b[0m\n\u001b[0;32m      5\u001b[0m     \u001b[0minput_shape\u001b[0m\u001b[1;33m=\u001b[0m\u001b[1;32mNone\u001b[0m\u001b[1;33m,\u001b[0m\u001b[1;33m\u001b[0m\u001b[1;33m\u001b[0m\u001b[0m\n",
      "\u001b[1;31mNameError\u001b[0m: name 'tf' is not defined"
     ]
    }
   ],
   "source": [
    "tf.keras.applications.ResNet50(\n",
    "    include_top=True,\n",
    "    weights=\"imagenet\",\n",
    "    input_tensor=None,\n",
    "    input_shape=None,\n",
    "    pooling=None,\n",
    "    classes=1000,\n",
    "    **kwargs\n",
    ")\n"
   ]
  },
  {
   "cell_type": "code",
   "execution_count": 4,
   "id": "fitting-mainstream",
   "metadata": {},
   "outputs": [],
   "source": [
    "import tensorflow as tf"
   ]
  },
  {
   "cell_type": "code",
   "execution_count": 5,
   "id": "hidden-benjamin",
   "metadata": {},
   "outputs": [
    {
     "ename": "NameError",
     "evalue": "name 'kwargs' is not defined",
     "output_type": "error",
     "traceback": [
      "\u001b[1;31m---------------------------------------------------------------------------\u001b[0m",
      "\u001b[1;31mNameError\u001b[0m                                 Traceback (most recent call last)",
      "\u001b[1;32m<ipython-input-5-79cf2626eaec>\u001b[0m in \u001b[0;36m<module>\u001b[1;34m\u001b[0m\n\u001b[0;32m      6\u001b[0m     \u001b[0mpooling\u001b[0m\u001b[1;33m=\u001b[0m\u001b[1;32mNone\u001b[0m\u001b[1;33m,\u001b[0m\u001b[1;33m\u001b[0m\u001b[1;33m\u001b[0m\u001b[0m\n\u001b[0;32m      7\u001b[0m     \u001b[0mclasses\u001b[0m\u001b[1;33m=\u001b[0m\u001b[1;36m1000\u001b[0m\u001b[1;33m,\u001b[0m\u001b[1;33m\u001b[0m\u001b[1;33m\u001b[0m\u001b[0m\n\u001b[1;32m----> 8\u001b[1;33m     \u001b[1;33m**\u001b[0m\u001b[0mkwargs\u001b[0m\u001b[1;33m\u001b[0m\u001b[1;33m\u001b[0m\u001b[0m\n\u001b[0m\u001b[0;32m      9\u001b[0m )\n",
      "\u001b[1;31mNameError\u001b[0m: name 'kwargs' is not defined"
     ]
    }
   ],
   "source": [
    "tf.keras.applications.ResNet50(\n",
    "    include_top=True,\n",
    "    weights=\"imagenet\",\n",
    "    input_tensor=None,\n",
    "    input_shape=None,\n",
    "    pooling=None,\n",
    "    classes=1000,\n",
    "    **kwargs\n",
    ")\n"
   ]
  },
  {
   "cell_type": "code",
   "execution_count": 6,
   "id": "civic-irish",
   "metadata": {},
   "outputs": [
    {
     "name": "stdout",
     "output_type": "stream",
     "text": [
      "Downloading data from https://storage.googleapis.com/tensorflow/keras-applications/resnet/resnet50_weights_tf_dim_ordering_tf_kernels.h5\n",
      "102973440/102967424 [==============================] - 15s 0us/step\n"
     ]
    }
   ],
   "source": [
    "model = ResNet50(weights='imagenet')"
   ]
  },
  {
   "cell_type": "code",
   "execution_count": 7,
   "id": "wrapped-daughter",
   "metadata": {},
   "outputs": [],
   "source": [
    "img_path= r'C:\\Users\\ab\\Pictures\\pitbull.jpg'"
   ]
  },
  {
   "cell_type": "code",
   "execution_count": 8,
   "id": "vanilla-increase",
   "metadata": {},
   "outputs": [
    {
     "ename": "ModuleNotFoundError",
     "evalue": "No module named 'matplotlib'",
     "output_type": "error",
     "traceback": [
      "\u001b[1;31m---------------------------------------------------------------------------\u001b[0m",
      "\u001b[1;31mModuleNotFoundError\u001b[0m                       Traceback (most recent call last)",
      "\u001b[1;32m<ipython-input-8-a0d2faabd9e9>\u001b[0m in \u001b[0;36m<module>\u001b[1;34m\u001b[0m\n\u001b[1;32m----> 1\u001b[1;33m \u001b[1;32mimport\u001b[0m \u001b[0mmatplotlib\u001b[0m\u001b[1;33m.\u001b[0m\u001b[0mpyplot\u001b[0m \u001b[1;32mas\u001b[0m \u001b[0mplt\u001b[0m\u001b[1;33m\u001b[0m\u001b[1;33m\u001b[0m\u001b[0m\n\u001b[0m",
      "\u001b[1;31mModuleNotFoundError\u001b[0m: No module named 'matplotlib'"
     ]
    }
   ],
   "source": [
    "import matplotlib.pyplot as plt"
   ]
  },
  {
   "cell_type": "code",
   "execution_count": 9,
   "id": "tough-colonial",
   "metadata": {},
   "outputs": [
    {
     "name": "stdout",
     "output_type": "stream",
     "text": [
      "Collecting matplotlibNote: you may need to restart the kernel to use updated packages.\n"
     ]
    },
    {
     "name": "stderr",
     "output_type": "stream",
     "text": [
      "WARNING: You are using pip version 19.2.3, however version 21.0.1 is available.\n",
      "You should consider upgrading via the 'python -m pip install --upgrade pip' command.\n"
     ]
    },
    {
     "name": "stdout",
     "output_type": "stream",
     "text": [
      "\n",
      "  Downloading https://files.pythonhosted.org/packages/85/31/5358cfbd8d88bc2efe1481d6f938e019697f0dc8222900a5ff46505bea36/matplotlib-3.3.4-cp38-cp38-win_amd64.whl (8.5MB)\n",
      "Collecting pillow>=6.2.0 (from matplotlib)\n",
      "  Downloading https://files.pythonhosted.org/packages/fc/2f/b0948c5aef8bdb6954b8421177c883818e6ae901a8da7c83fea9e7bd6d10/Pillow-8.1.2-cp38-cp38-win_amd64.whl (2.2MB)\n",
      "Requirement already satisfied: numpy>=1.15 in c:\\users\\ab\\appdata\\local\\programs\\python\\python38\\lib\\site-packages (from matplotlib) (1.19.5)\n",
      "Collecting cycler>=0.10 (from matplotlib)\n",
      "  Downloading https://files.pythonhosted.org/packages/f7/d2/e07d3ebb2bd7af696440ce7e754c59dd546ffe1bbe732c8ab68b9c834e61/cycler-0.10.0-py2.py3-none-any.whl\n",
      "Collecting kiwisolver>=1.0.1 (from matplotlib)\n",
      "  Downloading https://files.pythonhosted.org/packages/a8/be/9a8f1a59c94f99544366fd3680373ccd6cf6dcd504e02d504486e9f0943b/kiwisolver-1.3.1-cp38-cp38-win_amd64.whl (51kB)\n",
      "Requirement already satisfied: pyparsing!=2.0.4,!=2.1.2,!=2.1.6,>=2.0.3 in c:\\users\\ab\\appdata\\local\\programs\\python\\python38\\lib\\site-packages (from matplotlib) (2.4.7)\n",
      "Requirement already satisfied: python-dateutil>=2.1 in c:\\users\\ab\\appdata\\local\\programs\\python\\python38\\lib\\site-packages (from matplotlib) (2.8.1)\n",
      "Requirement already satisfied: six in c:\\users\\ab\\appdata\\local\\programs\\python\\python38\\lib\\site-packages (from cycler>=0.10->matplotlib) (1.15.0)\n",
      "Installing collected packages: pillow, cycler, kiwisolver, matplotlib\n",
      "Successfully installed cycler-0.10.0 kiwisolver-1.3.1 matplotlib-3.3.4 pillow-8.1.2\n"
     ]
    }
   ],
   "source": [
    "pip install matplotlib"
   ]
  },
  {
   "cell_type": "code",
   "execution_count": 10,
   "id": "southern-advocacy",
   "metadata": {},
   "outputs": [],
   "source": [
    "import matplotlib.pyplot as plt"
   ]
  },
  {
   "cell_type": "code",
   "execution_count": 11,
   "id": "electrical-philippines",
   "metadata": {},
   "outputs": [],
   "source": [
    "%matplotlib inline"
   ]
  },
  {
   "cell_type": "code",
   "execution_count": 12,
   "id": "intelligent-falls",
   "metadata": {},
   "outputs": [
    {
     "ename": "ModuleNotFoundError",
     "evalue": "No module named 'skimage'",
     "output_type": "error",
     "traceback": [
      "\u001b[1;31m---------------------------------------------------------------------------\u001b[0m",
      "\u001b[1;31mModuleNotFoundError\u001b[0m                       Traceback (most recent call last)",
      "\u001b[1;32m<ipython-input-12-6003bc320302>\u001b[0m in \u001b[0;36m<module>\u001b[1;34m\u001b[0m\n\u001b[1;32m----> 1\u001b[1;33m \u001b[1;32mfrom\u001b[0m \u001b[0mskimage\u001b[0m\u001b[1;33m.\u001b[0m\u001b[0mio\u001b[0m \u001b[1;32mimport\u001b[0m \u001b[0mimread\u001b[0m\u001b[1;33m\u001b[0m\u001b[1;33m\u001b[0m\u001b[0m\n\u001b[0m",
      "\u001b[1;31mModuleNotFoundError\u001b[0m: No module named 'skimage'"
     ]
    }
   ],
   "source": [
    "from skimage.io import imread"
   ]
  },
  {
   "cell_type": "code",
   "execution_count": 13,
   "id": "veterinary-horse",
   "metadata": {},
   "outputs": [
    {
     "name": "stdout",
     "output_type": "stream",
     "text": [
      "Collecting scikit-imageNote: you may need to restart the kernel to use updated packages.\n",
      "  Downloading https://files.pythonhosted.org/packages/8d/44/8df48c3cca2c1bcb5e25bb1c15efd81d946074293478edb22e4f7d21a7ab/scikit_image-0.18.1-cp38-cp38-win_amd64.whl (12.2MB)\n",
      "Collecting tifffile>=2019.7.26 (from scikit-image)\n",
      "  Downloading https://files.pythonhosted.org/packages/4b/ab/947c548d768e10ef83b03b957b7f2a27cefbaaab1bfa7748d1da21539db9/tifffile-2021.3.17-py3-none-any.whl (163kB)\n",
      "Collecting imageio>=2.3.0 (from scikit-image)\n",
      "  Downloading https://files.pythonhosted.org/packages/6e/57/5d899fae74c1752f52869b613a8210a2480e1a69688e65df6cb26117d45d/imageio-2.9.0-py3-none-any.whl (3.3MB)\n",
      "Collecting networkx>=2.0 (from scikit-image)\n"
     ]
    },
    {
     "name": "stderr",
     "output_type": "stream",
     "text": [
      "WARNING: You are using pip version 19.2.3, however version 21.0.1 is available.\n",
      "You should consider upgrading via the 'python -m pip install --upgrade pip' command.\n"
     ]
    },
    {
     "name": "stdout",
     "output_type": "stream",
     "text": [
      "\n",
      "  Downloading https://files.pythonhosted.org/packages/9b/cd/dc52755d30ba41c60243235460961fc28022e5b6731f16c268667625baea/networkx-2.5-py3-none-any.whl (1.6MB)\n",
      "Requirement already satisfied: pillow!=7.1.0,!=7.1.1,>=4.3.0 in c:\\users\\ab\\appdata\\local\\programs\\python\\python38\\lib\\site-packages (from scikit-image) (8.1.2)\n",
      "Requirement already satisfied: matplotlib!=3.0.0,>=2.0.0 in c:\\users\\ab\\appdata\\local\\programs\\python\\python38\\lib\\site-packages (from scikit-image) (3.3.4)\n",
      "Requirement already satisfied: scipy>=1.0.1 in c:\\users\\ab\\appdata\\local\\programs\\python\\python38\\lib\\site-packages (from scikit-image) (1.6.1)\n",
      "Collecting PyWavelets>=1.1.1 (from scikit-image)\n",
      "  Downloading https://files.pythonhosted.org/packages/78/e7/b120cd033c81710712e7893760d181d926df8a583d3334354232662a64ff/PyWavelets-1.1.1-cp38-cp38-win_amd64.whl (4.3MB)\n",
      "Requirement already satisfied: numpy>=1.16.5 in c:\\users\\ab\\appdata\\local\\programs\\python\\python38\\lib\\site-packages (from scikit-image) (1.19.5)\n",
      "Requirement already satisfied: decorator>=4.3.0 in c:\\users\\ab\\appdata\\local\\programs\\python\\python38\\lib\\site-packages (from networkx>=2.0->scikit-image) (4.4.2)\n",
      "Requirement already satisfied: pyparsing!=2.0.4,!=2.1.2,!=2.1.6,>=2.0.3 in c:\\users\\ab\\appdata\\local\\programs\\python\\python38\\lib\\site-packages (from matplotlib!=3.0.0,>=2.0.0->scikit-image) (2.4.7)\n",
      "Requirement already satisfied: python-dateutil>=2.1 in c:\\users\\ab\\appdata\\local\\programs\\python\\python38\\lib\\site-packages (from matplotlib!=3.0.0,>=2.0.0->scikit-image) (2.8.1)\n",
      "Requirement already satisfied: kiwisolver>=1.0.1 in c:\\users\\ab\\appdata\\local\\programs\\python\\python38\\lib\\site-packages (from matplotlib!=3.0.0,>=2.0.0->scikit-image) (1.3.1)\n",
      "Requirement already satisfied: cycler>=0.10 in c:\\users\\ab\\appdata\\local\\programs\\python\\python38\\lib\\site-packages (from matplotlib!=3.0.0,>=2.0.0->scikit-image) (0.10.0)\n",
      "Requirement already satisfied: six>=1.5 in c:\\users\\ab\\appdata\\local\\programs\\python\\python38\\lib\\site-packages (from python-dateutil>=2.1->matplotlib!=3.0.0,>=2.0.0->scikit-image) (1.15.0)\n",
      "Installing collected packages: tifffile, imageio, networkx, PyWavelets, scikit-image\n",
      "Successfully installed PyWavelets-1.1.1 imageio-2.9.0 networkx-2.5 scikit-image-0.18.1 tifffile-2021.3.17\n"
     ]
    }
   ],
   "source": [
    "pip install scikit-image"
   ]
  },
  {
   "cell_type": "code",
   "execution_count": 14,
   "id": "rising-implement",
   "metadata": {},
   "outputs": [],
   "source": [
    "from skimage.io import imread"
   ]
  },
  {
   "cell_type": "code",
   "execution_count": 15,
   "id": "freelance-compilation",
   "metadata": {},
   "outputs": [
    {
     "data": {
      "text/plain": [
       "array([[[122, 124,  84],\n",
       "        [ 95,  97,  57],\n",
       "        [ 70,  71,  29],\n",
       "        ...,\n",
       "        [217, 215, 218],\n",
       "        [218, 216, 219],\n",
       "        [219, 217, 220]],\n",
       "\n",
       "       [[125, 127,  88],\n",
       "        [104, 106,  66],\n",
       "        [ 81,  82,  42],\n",
       "        ...,\n",
       "        [223, 221, 224],\n",
       "        [225, 223, 226],\n",
       "        [224, 222, 225]],\n",
       "\n",
       "       [[122, 122,  86],\n",
       "        [110, 110,  72],\n",
       "        [ 90,  91,  51],\n",
       "        ...,\n",
       "        [231, 226, 230],\n",
       "        [232, 227, 231],\n",
       "        [226, 221, 225]],\n",
       "\n",
       "       ...,\n",
       "\n",
       "       [[172, 124,  88],\n",
       "        [168, 122,  86],\n",
       "        [171, 123,  87],\n",
       "        ...,\n",
       "        [168, 127,  99],\n",
       "        [183, 144, 115],\n",
       "        [183, 142, 114]],\n",
       "\n",
       "       [[139,  89,  54],\n",
       "        [136,  88,  52],\n",
       "        [138,  88,  53],\n",
       "        ...,\n",
       "        [157, 113,  84],\n",
       "        [161, 120,  90],\n",
       "        [167, 123,  94]],\n",
       "\n",
       "       [[124,  74,  39],\n",
       "        [120,  70,  35],\n",
       "        [119,  69,  34],\n",
       "        ...,\n",
       "        [159, 115,  86],\n",
       "        [156, 112,  83],\n",
       "        [160, 116,  87]]], dtype=uint8)"
      ]
     },
     "execution_count": 15,
     "metadata": {},
     "output_type": "execute_result"
    }
   ],
   "source": [
    "imread(img_path)"
   ]
  },
  {
   "cell_type": "code",
   "execution_count": 16,
   "id": "common-terrorism",
   "metadata": {},
   "outputs": [
    {
     "ename": "NameError",
     "evalue": "name 'img' is not defined",
     "output_type": "error",
     "traceback": [
      "\u001b[1;31m---------------------------------------------------------------------------\u001b[0m",
      "\u001b[1;31mNameError\u001b[0m                                 Traceback (most recent call last)",
      "\u001b[1;32m<ipython-input-16-23af6c37b3d0>\u001b[0m in \u001b[0;36m<module>\u001b[1;34m\u001b[0m\n\u001b[1;32m----> 1\u001b[1;33m \u001b[0mplt\u001b[0m\u001b[1;33m.\u001b[0m\u001b[0mimshow\u001b[0m\u001b[1;33m(\u001b[0m\u001b[0mimg\u001b[0m\u001b[1;33m)\u001b[0m\u001b[1;33m\u001b[0m\u001b[1;33m\u001b[0m\u001b[0m\n\u001b[0m",
      "\u001b[1;31mNameError\u001b[0m: name 'img' is not defined"
     ]
    }
   ],
   "source": [
    "plt.imshow(img)"
   ]
  },
  {
   "cell_type": "code",
   "execution_count": 17,
   "id": "oriental-thirty",
   "metadata": {},
   "outputs": [
    {
     "data": {
      "text/plain": [
       "<matplotlib.image.AxesImage at 0x1dabb376190>"
      ]
     },
     "execution_count": 17,
     "metadata": {},
     "output_type": "execute_result"
    },
    {
     "data": {
      "image/png": "[encoded data removed]",
      "text/plain": [
       "<Figure size 432x288 with 1 Axes>"
      ]
     },
     "metadata": {
      "needs_background": "light"
     },
     "output_type": "display_data"
    }
   ],
   "source": [
    "plt.imshow(imread(img_path))"
   ]
  },
  {
   "cell_type": "code",
   "execution_count": 18,
   "id": "competitive-angle",
   "metadata": {},
   "outputs": [],
   "source": [
    " img = imread(img_path)"
   ]
  },
  {
   "cell_type": "code",
   "execution_count": 19,
   "id": "painted-young",
   "metadata": {},
   "outputs": [
    {
     "ename": "ImportError",
     "evalue": "Could not import PIL.Image. The use of `load_img` requires PIL.",
     "output_type": "error",
     "traceback": [
      "\u001b[1;31m---------------------------------------------------------------------------\u001b[0m",
      "\u001b[1;31mImportError\u001b[0m                               Traceback (most recent call last)",
      "\u001b[1;32m<ipython-input-19-724b40196fa7>\u001b[0m in \u001b[0;36m<module>\u001b[1;34m\u001b[0m\n\u001b[1;32m----> 1\u001b[1;33m \u001b[0mimg\u001b[0m \u001b[1;33m=\u001b[0m \u001b[0mimage\u001b[0m\u001b[1;33m.\u001b[0m\u001b[0mload_img\u001b[0m\u001b[1;33m(\u001b[0m\u001b[0mimg_path\u001b[0m\u001b[1;33m,\u001b[0m \u001b[0mtarget_size\u001b[0m\u001b[1;33m=\u001b[0m\u001b[1;33m(\u001b[0m\u001b[1;36m224\u001b[0m\u001b[1;33m,\u001b[0m\u001b[1;36m224\u001b[0m\u001b[1;33m)\u001b[0m\u001b[1;33m)\u001b[0m\u001b[1;33m\u001b[0m\u001b[1;33m\u001b[0m\u001b[0m\n\u001b[0m\u001b[0;32m      2\u001b[0m \u001b[0mx\u001b[0m\u001b[1;33m=\u001b[0m \u001b[0mimage\u001b[0m\u001b[1;33m.\u001b[0m\u001b[0mimg_to_array\u001b[0m\u001b[1;33m(\u001b[0m\u001b[0mimg\u001b[0m\u001b[1;33m)\u001b[0m\u001b[1;33m\u001b[0m\u001b[1;33m\u001b[0m\u001b[0m\n\u001b[0;32m      3\u001b[0m \u001b[0mx\u001b[0m\u001b[1;33m=\u001b[0m \u001b[0mnp\u001b[0m\u001b[1;33m.\u001b[0m\u001b[0mexpand_dims\u001b[0m\u001b[1;33m(\u001b[0m\u001b[0mx\u001b[0m\u001b[1;33m,\u001b[0m \u001b[0maxis\u001b[0m\u001b[1;33m=\u001b[0m\u001b[1;36m0\u001b[0m\u001b[1;33m)\u001b[0m\u001b[1;33m\u001b[0m\u001b[1;33m\u001b[0m\u001b[0m\n\u001b[0;32m      4\u001b[0m \u001b[0mx\u001b[0m\u001b[1;33m=\u001b[0m \u001b[0mpreprocess_input\u001b[0m\u001b[1;33m(\u001b[0m\u001b[0mx\u001b[0m\u001b[1;33m)\u001b[0m\u001b[1;33m\u001b[0m\u001b[1;33m\u001b[0m\u001b[0m\n\u001b[0;32m      5\u001b[0m \u001b[1;33m\u001b[0m\u001b[0m\n",
      "\u001b[1;32mc:\\users\\ab\\appdata\\local\\programs\\python\\python38\\lib\\site-packages\\tensorflow\\python\\keras\\preprocessing\\image.py\u001b[0m in \u001b[0;36mload_img\u001b[1;34m(path, grayscale, color_mode, target_size, interpolation)\u001b[0m\n\u001b[0;32m    297\u001b[0m       \u001b[0mValueError\u001b[0m\u001b[1;33m:\u001b[0m \u001b[1;32mif\u001b[0m \u001b[0minterpolation\u001b[0m \u001b[0mmethod\u001b[0m \u001b[1;32mis\u001b[0m \u001b[1;32mnot\u001b[0m \u001b[0msupported\u001b[0m\u001b[1;33m.\u001b[0m\u001b[1;33m\u001b[0m\u001b[1;33m\u001b[0m\u001b[0m\n\u001b[0;32m    298\u001b[0m   \"\"\"\n\u001b[1;32m--> 299\u001b[1;33m   return image.load_img(path, grayscale=grayscale, color_mode=color_mode,\n\u001b[0m\u001b[0;32m    300\u001b[0m                         target_size=target_size, interpolation=interpolation)\n\u001b[0;32m    301\u001b[0m \u001b[1;33m\u001b[0m\u001b[0m\n",
      "\u001b[1;32mc:\\users\\ab\\appdata\\local\\programs\\python\\python38\\lib\\site-packages\\keras_preprocessing\\image\\utils.py\u001b[0m in \u001b[0;36mload_img\u001b[1;34m(path, grayscale, color_mode, target_size, interpolation)\u001b[0m\n\u001b[0;32m    109\u001b[0m         \u001b[0mcolor_mode\u001b[0m \u001b[1;33m=\u001b[0m \u001b[1;34m'grayscale'\u001b[0m\u001b[1;33m\u001b[0m\u001b[1;33m\u001b[0m\u001b[0m\n\u001b[0;32m    110\u001b[0m     \u001b[1;32mif\u001b[0m \u001b[0mpil_image\u001b[0m \u001b[1;32mis\u001b[0m \u001b[1;32mNone\u001b[0m\u001b[1;33m:\u001b[0m\u001b[1;33m\u001b[0m\u001b[1;33m\u001b[0m\u001b[0m\n\u001b[1;32m--> 111\u001b[1;33m         raise ImportError('Could not import PIL.Image. '\n\u001b[0m\u001b[0;32m    112\u001b[0m                           'The use of `load_img` requires PIL.')\n\u001b[0;32m    113\u001b[0m     \u001b[1;32mwith\u001b[0m \u001b[0mopen\u001b[0m\u001b[1;33m(\u001b[0m\u001b[0mpath\u001b[0m\u001b[1;33m,\u001b[0m \u001b[1;34m'rb'\u001b[0m\u001b[1;33m)\u001b[0m \u001b[1;32mas\u001b[0m \u001b[0mf\u001b[0m\u001b[1;33m:\u001b[0m\u001b[1;33m\u001b[0m\u001b[1;33m\u001b[0m\u001b[0m\n",
      "\u001b[1;31mImportError\u001b[0m: Could not import PIL.Image. The use of `load_img` requires PIL."
     ]
    }
   ],
   "source": [
    "img = image.load_img(img_path, target_size=(224,224))\n",
    "x= image.img_to_array(img)\n",
    "x= np.expand_dims(x, axis=0)\n",
    "x= preprocess_input(x)\n",
    "\n",
    "preds= model.predict(x)"
   ]
  },
  {
   "cell_type": "code",
   "execution_count": 20,
   "id": "surgical-promotion",
   "metadata": {},
   "outputs": [
    {
     "name": "stdout",
     "output_type": "stream",
     "text": [
      "Requirement already satisfied: pillow in c:\\users\\ab\\appdata\\local\\programs\\python\\python38\\lib\\site-packages (8.1.2)\n",
      "Note: you may need to restart the kernel to use updated packages.\n"
     ]
    },
    {
     "name": "stderr",
     "output_type": "stream",
     "text": [
      "WARNING: You are using pip version 19.2.3, however version 21.0.1 is available.\n",
      "You should consider upgrading via the 'python -m pip install --upgrade pip' command.\n"
     ]
    }
   ],
   "source": [
    "pip install pillow"
   ]
  },
  {
   "cell_type": "code",
   "execution_count": 21,
   "id": "related-discrimination",
   "metadata": {},
   "outputs": [],
   "source": [
    "from PIL import Image"
   ]
  },
  {
   "cell_type": "code",
   "execution_count": 22,
   "id": "compound-shield",
   "metadata": {},
   "outputs": [],
   "source": [
    "import sys"
   ]
  },
  {
   "cell_type": "code",
   "execution_count": 23,
   "id": "competitive-watch",
   "metadata": {},
   "outputs": [
    {
     "ename": "ImportError",
     "evalue": "Could not import PIL.Image. The use of `load_img` requires PIL.",
     "output_type": "error",
     "traceback": [
      "\u001b[1;31m---------------------------------------------------------------------------\u001b[0m",
      "\u001b[1;31mImportError\u001b[0m                               Traceback (most recent call last)",
      "\u001b[1;32m<ipython-input-23-724b40196fa7>\u001b[0m in \u001b[0;36m<module>\u001b[1;34m\u001b[0m\n\u001b[1;32m----> 1\u001b[1;33m \u001b[0mimg\u001b[0m \u001b[1;33m=\u001b[0m \u001b[0mimage\u001b[0m\u001b[1;33m.\u001b[0m\u001b[0mload_img\u001b[0m\u001b[1;33m(\u001b[0m\u001b[0mimg_path\u001b[0m\u001b[1;33m,\u001b[0m \u001b[0mtarget_size\u001b[0m\u001b[1;33m=\u001b[0m\u001b[1;33m(\u001b[0m\u001b[1;36m224\u001b[0m\u001b[1;33m,\u001b[0m\u001b[1;36m224\u001b[0m\u001b[1;33m)\u001b[0m\u001b[1;33m)\u001b[0m\u001b[1;33m\u001b[0m\u001b[1;33m\u001b[0m\u001b[0m\n\u001b[0m\u001b[0;32m      2\u001b[0m \u001b[0mx\u001b[0m\u001b[1;33m=\u001b[0m \u001b[0mimage\u001b[0m\u001b[1;33m.\u001b[0m\u001b[0mimg_to_array\u001b[0m\u001b[1;33m(\u001b[0m\u001b[0mimg\u001b[0m\u001b[1;33m)\u001b[0m\u001b[1;33m\u001b[0m\u001b[1;33m\u001b[0m\u001b[0m\n\u001b[0;32m      3\u001b[0m \u001b[0mx\u001b[0m\u001b[1;33m=\u001b[0m \u001b[0mnp\u001b[0m\u001b[1;33m.\u001b[0m\u001b[0mexpand_dims\u001b[0m\u001b[1;33m(\u001b[0m\u001b[0mx\u001b[0m\u001b[1;33m,\u001b[0m \u001b[0maxis\u001b[0m\u001b[1;33m=\u001b[0m\u001b[1;36m0\u001b[0m\u001b[1;33m)\u001b[0m\u001b[1;33m\u001b[0m\u001b[1;33m\u001b[0m\u001b[0m\n\u001b[0;32m      4\u001b[0m \u001b[0mx\u001b[0m\u001b[1;33m=\u001b[0m \u001b[0mpreprocess_input\u001b[0m\u001b[1;33m(\u001b[0m\u001b[0mx\u001b[0m\u001b[1;33m)\u001b[0m\u001b[1;33m\u001b[0m\u001b[1;33m\u001b[0m\u001b[0m\n\u001b[0;32m      5\u001b[0m \u001b[1;33m\u001b[0m\u001b[0m\n",
      "\u001b[1;32mc:\\users\\ab\\appdata\\local\\programs\\python\\python38\\lib\\site-packages\\tensorflow\\python\\keras\\preprocessing\\image.py\u001b[0m in \u001b[0;36mload_img\u001b[1;34m(path, grayscale, color_mode, target_size, interpolation)\u001b[0m\n\u001b[0;32m    297\u001b[0m       \u001b[0mValueError\u001b[0m\u001b[1;33m:\u001b[0m \u001b[1;32mif\u001b[0m \u001b[0minterpolation\u001b[0m \u001b[0mmethod\u001b[0m \u001b[1;32mis\u001b[0m \u001b[1;32mnot\u001b[0m \u001b[0msupported\u001b[0m\u001b[1;33m.\u001b[0m\u001b[1;33m\u001b[0m\u001b[1;33m\u001b[0m\u001b[0m\n\u001b[0;32m    298\u001b[0m   \"\"\"\n\u001b[1;32m--> 299\u001b[1;33m   return image.load_img(path, grayscale=grayscale, color_mode=color_mode,\n\u001b[0m\u001b[0;32m    300\u001b[0m                         target_size=target_size, interpolation=interpolation)\n\u001b[0;32m    301\u001b[0m \u001b[1;33m\u001b[0m\u001b[0m\n",
      "\u001b[1;32mc:\\users\\ab\\appdata\\local\\programs\\python\\python38\\lib\\site-packages\\keras_preprocessing\\image\\utils.py\u001b[0m in \u001b[0;36mload_img\u001b[1;34m(path, grayscale, color_mode, target_size, interpolation)\u001b[0m\n\u001b[0;32m    109\u001b[0m         \u001b[0mcolor_mode\u001b[0m \u001b[1;33m=\u001b[0m \u001b[1;34m'grayscale'\u001b[0m\u001b[1;33m\u001b[0m\u001b[1;33m\u001b[0m\u001b[0m\n\u001b[0;32m    110\u001b[0m     \u001b[1;32mif\u001b[0m \u001b[0mpil_image\u001b[0m \u001b[1;32mis\u001b[0m \u001b[1;32mNone\u001b[0m\u001b[1;33m:\u001b[0m\u001b[1;33m\u001b[0m\u001b[1;33m\u001b[0m\u001b[0m\n\u001b[1;32m--> 111\u001b[1;33m         raise ImportError('Could not import PIL.Image. '\n\u001b[0m\u001b[0;32m    112\u001b[0m                           'The use of `load_img` requires PIL.')\n\u001b[0;32m    113\u001b[0m     \u001b[1;32mwith\u001b[0m \u001b[0mopen\u001b[0m\u001b[1;33m(\u001b[0m\u001b[0mpath\u001b[0m\u001b[1;33m,\u001b[0m \u001b[1;34m'rb'\u001b[0m\u001b[1;33m)\u001b[0m \u001b[1;32mas\u001b[0m \u001b[0mf\u001b[0m\u001b[1;33m:\u001b[0m\u001b[1;33m\u001b[0m\u001b[1;33m\u001b[0m\u001b[0m\n",
      "\u001b[1;31mImportError\u001b[0m: Could not import PIL.Image. The use of `load_img` requires PIL."
     ]
    }
   ],
   "source": [
    "img = image.load_img(img_path, target_size=(224,224))\n",
    "x= image.img_to_array(img)\n",
    "x= np.expand_dims(x, axis=0)\n",
    "x= preprocess_input(x)\n",
    "\n",
    "preds= model.predict(x)"
   ]
  },
  {
   "cell_type": "code",
   "execution_count": 24,
   "id": "catholic-latex",
   "metadata": {},
   "outputs": [],
   "source": [
    "sys.modules['Image'] = Image"
   ]
  },
  {
   "cell_type": "code",
   "execution_count": 25,
   "id": "medium-infrastructure",
   "metadata": {},
   "outputs": [],
   "source": [
    "from PIL import Image"
   ]
  },
  {
   "cell_type": "code",
   "execution_count": 26,
   "id": "latest-airfare",
   "metadata": {},
   "outputs": [
    {
     "name": "stdout",
     "output_type": "stream",
     "text": [
      "c:\\users\\ab\\appdata\\local\\programs\\python\\python38\\lib\\site-packages\\PIL\\Image.py\n"
     ]
    }
   ],
   "source": [
    "print(Image.__file__)"
   ]
  },
  {
   "cell_type": "code",
   "execution_count": 27,
   "id": "nuclear-sequence",
   "metadata": {},
   "outputs": [
    {
     "name": "stdout",
     "output_type": "stream",
     "text": [
      "Collecting PIL\n",
      "Note: you may need to restart the kernel to use updated packages.\n"
     ]
    },
    {
     "name": "stderr",
     "output_type": "stream",
     "text": [
      "  ERROR: Could not find a version that satisfies the requirement PIL (from versions: none)\n",
      "ERROR: No matching distribution found for PIL\n",
      "WARNING: You are using pip version 19.2.3, however version 21.0.1 is available.\n",
      "You should consider upgrading via the 'python -m pip install --upgrade pip' command.\n"
     ]
    }
   ],
   "source": [
    "pip install PIL\n"
   ]
  },
  {
   "cell_type": "code",
   "execution_count": 1,
   "id": "solid-raise",
   "metadata": {},
   "outputs": [
    {
     "name": "stdout",
     "output_type": "stream",
     "text": [
      "Collecting PIL\n",
      "Note: you may need to restart the kernel to use updated packages.\n"
     ]
    },
    {
     "name": "stderr",
     "output_type": "stream",
     "text": [
      "  ERROR: Could not find a version that satisfies the requirement PIL (from versions: none)\n",
      "ERROR: No matching distribution found for PIL\n",
      "WARNING: You are using pip version 19.2.3, however version 21.0.1 is available.\n",
      "You should consider upgrading via the 'python -m pip install --upgrade pip' command.\n"
     ]
    }
   ],
   "source": [
    "pip install PIL\n"
   ]
  },
  {
   "cell_type": "code",
   "execution_count": 2,
   "id": "royal-pointer",
   "metadata": {},
   "outputs": [
    {
     "name": "stdout",
     "output_type": "stream",
     "text": [
      "Collecting pip\n",
      "  Downloading https://files.pythonhosted.org/packages/fe/ef/60d7ba03b5c442309ef42e7d69959f73aacccd0d86008362a681c4698e83/pip-21.0.1-py3-none-any.whl (1.5MB)\n",
      "Installing collected packages: pip\n",
      "  Found existing installation: pip 19.2.3\n",
      "    Uninstalling pip-19.2.3:\n",
      "      Successfully uninstalled pip-19.2.3\n",
      "Successfully installed pip-21.0.1\n",
      "Note: you may need to restart the kernel to use updated packages.\n"
     ]
    }
   ],
   "source": [
    "pip install --upgrade pip"
   ]
  },
  {
   "cell_type": "code",
   "execution_count": 3,
   "id": "promotional-virus",
   "metadata": {},
   "outputs": [
    {
     "name": "stdout",
     "output_type": "stream",
     "text": [
      "Note: you may need to restart the kernel to use updated packages.\n"
     ]
    },
    {
     "name": "stderr",
     "output_type": "stream",
     "text": [
      "ERROR: Could not find a version that satisfies the requirement PIL\n",
      "ERROR: No matching distribution found for PIL\n"
     ]
    }
   ],
   "source": [
    "pip install PIL\n"
   ]
  },
  {
   "cell_type": "code",
   "execution_count": 1,
   "id": "turkish-observer",
   "metadata": {},
   "outputs": [
    {
     "name": "stdout",
     "output_type": "stream",
     "text": [
      "Note: you may need to restart the kernel to use updated packages.\n"
     ]
    },
    {
     "name": "stderr",
     "output_type": "stream",
     "text": [
      "ERROR: Could not find a version that satisfies the requirement PIL\n",
      "ERROR: No matching distribution found for PIL\n"
     ]
    }
   ],
   "source": [
    "pip install PIL\n"
   ]
  },
  {
   "cell_type": "code",
   "execution_count": 2,
   "id": "geological-design",
   "metadata": {},
   "outputs": [],
   "source": [
    "from PIL import Image"
   ]
  },
  {
   "cell_type": "code",
   "execution_count": 3,
   "id": "regulated-water",
   "metadata": {},
   "outputs": [
    {
     "ename": "NameError",
     "evalue": "name 'image' is not defined",
     "output_type": "error",
     "traceback": [
      "\u001b[1;31m---------------------------------------------------------------------------\u001b[0m",
      "\u001b[1;31mNameError\u001b[0m                                 Traceback (most recent call last)",
      "\u001b[1;32m<ipython-input-3-724b40196fa7>\u001b[0m in \u001b[0;36m<module>\u001b[1;34m\u001b[0m\n\u001b[1;32m----> 1\u001b[1;33m \u001b[0mimg\u001b[0m \u001b[1;33m=\u001b[0m \u001b[0mimage\u001b[0m\u001b[1;33m.\u001b[0m\u001b[0mload_img\u001b[0m\u001b[1;33m(\u001b[0m\u001b[0mimg_path\u001b[0m\u001b[1;33m,\u001b[0m \u001b[0mtarget_size\u001b[0m\u001b[1;33m=\u001b[0m\u001b[1;33m(\u001b[0m\u001b[1;36m224\u001b[0m\u001b[1;33m,\u001b[0m\u001b[1;36m224\u001b[0m\u001b[1;33m)\u001b[0m\u001b[1;33m)\u001b[0m\u001b[1;33m\u001b[0m\u001b[1;33m\u001b[0m\u001b[0m\n\u001b[0m\u001b[0;32m      2\u001b[0m \u001b[0mx\u001b[0m\u001b[1;33m=\u001b[0m \u001b[0mimage\u001b[0m\u001b[1;33m.\u001b[0m\u001b[0mimg_to_array\u001b[0m\u001b[1;33m(\u001b[0m\u001b[0mimg\u001b[0m\u001b[1;33m)\u001b[0m\u001b[1;33m\u001b[0m\u001b[1;33m\u001b[0m\u001b[0m\n\u001b[0;32m      3\u001b[0m \u001b[0mx\u001b[0m\u001b[1;33m=\u001b[0m \u001b[0mnp\u001b[0m\u001b[1;33m.\u001b[0m\u001b[0mexpand_dims\u001b[0m\u001b[1;33m(\u001b[0m\u001b[0mx\u001b[0m\u001b[1;33m,\u001b[0m \u001b[0maxis\u001b[0m\u001b[1;33m=\u001b[0m\u001b[1;36m0\u001b[0m\u001b[1;33m)\u001b[0m\u001b[1;33m\u001b[0m\u001b[1;33m\u001b[0m\u001b[0m\n\u001b[0;32m      4\u001b[0m \u001b[0mx\u001b[0m\u001b[1;33m=\u001b[0m \u001b[0mpreprocess_input\u001b[0m\u001b[1;33m(\u001b[0m\u001b[0mx\u001b[0m\u001b[1;33m)\u001b[0m\u001b[1;33m\u001b[0m\u001b[1;33m\u001b[0m\u001b[0m\n\u001b[0;32m      5\u001b[0m \u001b[1;33m\u001b[0m\u001b[0m\n",
      "\u001b[1;31mNameError\u001b[0m: name 'image' is not defined"
     ]
    }
   ],
   "source": [
    "img = image.load_img(img_path, target_size=(224,224))\n",
    "x= image.img_to_array(img)\n",
    "x= np.expand_dims(x, axis=0)\n",
    "x= preprocess_input(x)\n",
    "\n",
    "preds= model.predict(x)"
   ]
  },
  {
   "cell_type": "code",
   "execution_count": 4,
   "id": "broken-floor",
   "metadata": {},
   "outputs": [
    {
     "ename": "AttributeError",
     "evalue": "module 'PIL.Image' has no attribute 'load_img'",
     "output_type": "error",
     "traceback": [
      "\u001b[1;31m---------------------------------------------------------------------------\u001b[0m",
      "\u001b[1;31mAttributeError\u001b[0m                            Traceback (most recent call last)",
      "\u001b[1;32m<ipython-input-4-100f5943325b>\u001b[0m in \u001b[0;36m<module>\u001b[1;34m\u001b[0m\n\u001b[1;32m----> 1\u001b[1;33m \u001b[0mimg\u001b[0m \u001b[1;33m=\u001b[0m \u001b[0mImage\u001b[0m\u001b[1;33m.\u001b[0m\u001b[0mload_img\u001b[0m\u001b[1;33m(\u001b[0m\u001b[0mimg_path\u001b[0m\u001b[1;33m,\u001b[0m \u001b[0mtarget_size\u001b[0m\u001b[1;33m=\u001b[0m\u001b[1;33m(\u001b[0m\u001b[1;36m224\u001b[0m\u001b[1;33m,\u001b[0m\u001b[1;36m224\u001b[0m\u001b[1;33m)\u001b[0m\u001b[1;33m)\u001b[0m\u001b[1;33m\u001b[0m\u001b[1;33m\u001b[0m\u001b[0m\n\u001b[0m\u001b[0;32m      2\u001b[0m \u001b[0mx\u001b[0m\u001b[1;33m=\u001b[0m \u001b[0mImage\u001b[0m\u001b[1;33m.\u001b[0m\u001b[0mimg_to_array\u001b[0m\u001b[1;33m(\u001b[0m\u001b[0mimg\u001b[0m\u001b[1;33m)\u001b[0m\u001b[1;33m\u001b[0m\u001b[1;33m\u001b[0m\u001b[0m\n\u001b[0;32m      3\u001b[0m \u001b[0mx\u001b[0m\u001b[1;33m=\u001b[0m \u001b[0mnp\u001b[0m\u001b[1;33m.\u001b[0m\u001b[0mexpand_dims\u001b[0m\u001b[1;33m(\u001b[0m\u001b[0mx\u001b[0m\u001b[1;33m,\u001b[0m \u001b[0maxis\u001b[0m\u001b[1;33m=\u001b[0m\u001b[1;36m0\u001b[0m\u001b[1;33m)\u001b[0m\u001b[1;33m\u001b[0m\u001b[1;33m\u001b[0m\u001b[0m\n\u001b[0;32m      4\u001b[0m \u001b[0mx\u001b[0m\u001b[1;33m=\u001b[0m \u001b[0mpreprocess_input\u001b[0m\u001b[1;33m(\u001b[0m\u001b[0mx\u001b[0m\u001b[1;33m)\u001b[0m\u001b[1;33m\u001b[0m\u001b[1;33m\u001b[0m\u001b[0m\n\u001b[0;32m      5\u001b[0m \u001b[1;33m\u001b[0m\u001b[0m\n",
      "\u001b[1;32mc:\\users\\ab\\appdata\\local\\programs\\python\\python38\\lib\\site-packages\\PIL\\Image.py\u001b[0m in \u001b[0;36m__getattr__\u001b[1;34m(name)\u001b[0m\n\u001b[0;32m     60\u001b[0m             \u001b[0m_raise_version_warning\u001b[0m\u001b[1;33m(\u001b[0m\u001b[1;33m)\u001b[0m\u001b[1;33m\u001b[0m\u001b[1;33m\u001b[0m\u001b[0m\n\u001b[0;32m     61\u001b[0m             \u001b[1;32mreturn\u001b[0m \u001b[0m__version__\u001b[0m\u001b[1;33m\u001b[0m\u001b[1;33m\u001b[0m\u001b[0m\n\u001b[1;32m---> 62\u001b[1;33m         \u001b[1;32mraise\u001b[0m \u001b[0mAttributeError\u001b[0m\u001b[1;33m(\u001b[0m\u001b[1;34mf\"module '{__name__}' has no attribute '{name}'\"\u001b[0m\u001b[1;33m)\u001b[0m\u001b[1;33m\u001b[0m\u001b[1;33m\u001b[0m\u001b[0m\n\u001b[0m\u001b[0;32m     63\u001b[0m \u001b[1;33m\u001b[0m\u001b[0m\n\u001b[0;32m     64\u001b[0m \u001b[1;33m\u001b[0m\u001b[0m\n",
      "\u001b[1;31mAttributeError\u001b[0m: module 'PIL.Image' has no attribute 'load_img'"
     ]
    }
   ],
   "source": [
    "img = Image.load_img(img_path, target_size=(224,224))\n",
    "x= Image.img_to_array(img)\n",
    "x= np.expand_dims(x, axis=0)\n",
    "x= preprocess_input(x)\n",
    "\n",
    "preds= model.predict(x)"
   ]
  },
  {
   "cell_type": "code",
   "execution_count": 5,
   "id": "approved-laser",
   "metadata": {},
   "outputs": [
    {
     "ename": "NameError",
     "evalue": "name 'image' is not defined",
     "output_type": "error",
     "traceback": [
      "\u001b[1;31m---------------------------------------------------------------------------\u001b[0m",
      "\u001b[1;31mNameError\u001b[0m                                 Traceback (most recent call last)",
      "\u001b[1;32m<ipython-input-5-724b40196fa7>\u001b[0m in \u001b[0;36m<module>\u001b[1;34m\u001b[0m\n\u001b[1;32m----> 1\u001b[1;33m \u001b[0mimg\u001b[0m \u001b[1;33m=\u001b[0m \u001b[0mimage\u001b[0m\u001b[1;33m.\u001b[0m\u001b[0mload_img\u001b[0m\u001b[1;33m(\u001b[0m\u001b[0mimg_path\u001b[0m\u001b[1;33m,\u001b[0m \u001b[0mtarget_size\u001b[0m\u001b[1;33m=\u001b[0m\u001b[1;33m(\u001b[0m\u001b[1;36m224\u001b[0m\u001b[1;33m,\u001b[0m\u001b[1;36m224\u001b[0m\u001b[1;33m)\u001b[0m\u001b[1;33m)\u001b[0m\u001b[1;33m\u001b[0m\u001b[1;33m\u001b[0m\u001b[0m\n\u001b[0m\u001b[0;32m      2\u001b[0m \u001b[0mx\u001b[0m\u001b[1;33m=\u001b[0m \u001b[0mimage\u001b[0m\u001b[1;33m.\u001b[0m\u001b[0mimg_to_array\u001b[0m\u001b[1;33m(\u001b[0m\u001b[0mimg\u001b[0m\u001b[1;33m)\u001b[0m\u001b[1;33m\u001b[0m\u001b[1;33m\u001b[0m\u001b[0m\n\u001b[0;32m      3\u001b[0m \u001b[0mx\u001b[0m\u001b[1;33m=\u001b[0m \u001b[0mnp\u001b[0m\u001b[1;33m.\u001b[0m\u001b[0mexpand_dims\u001b[0m\u001b[1;33m(\u001b[0m\u001b[0mx\u001b[0m\u001b[1;33m,\u001b[0m \u001b[0maxis\u001b[0m\u001b[1;33m=\u001b[0m\u001b[1;36m0\u001b[0m\u001b[1;33m)\u001b[0m\u001b[1;33m\u001b[0m\u001b[1;33m\u001b[0m\u001b[0m\n\u001b[0;32m      4\u001b[0m \u001b[0mx\u001b[0m\u001b[1;33m=\u001b[0m \u001b[0mpreprocess_input\u001b[0m\u001b[1;33m(\u001b[0m\u001b[0mx\u001b[0m\u001b[1;33m)\u001b[0m\u001b[1;33m\u001b[0m\u001b[1;33m\u001b[0m\u001b[0m\n\u001b[0;32m      5\u001b[0m \u001b[1;33m\u001b[0m\u001b[0m\n",
      "\u001b[1;31mNameError\u001b[0m: name 'image' is not defined"
     ]
    }
   ],
   "source": [
    "img = image.load_img(img_path, target_size=(224,224))\n",
    "x= image.img_to_array(img)\n",
    "x= np.expand_dims(x, axis=0)\n",
    "x= preprocess_input(x)\n",
    "\n",
    "preds= model.predict(x)"
   ]
  },
  {
   "cell_type": "code",
   "execution_count": 6,
   "id": "opened-diesel",
   "metadata": {},
   "outputs": [],
   "source": [
    "from keras.preprocessing import image"
   ]
  },
  {
   "cell_type": "code",
   "execution_count": 7,
   "id": "surrounded-compromise",
   "metadata": {},
   "outputs": [
    {
     "ename": "NameError",
     "evalue": "name 'img_path' is not defined",
     "output_type": "error",
     "traceback": [
      "\u001b[1;31m---------------------------------------------------------------------------\u001b[0m",
      "\u001b[1;31mNameError\u001b[0m                                 Traceback (most recent call last)",
      "\u001b[1;32m<ipython-input-7-724b40196fa7>\u001b[0m in \u001b[0;36m<module>\u001b[1;34m\u001b[0m\n\u001b[1;32m----> 1\u001b[1;33m \u001b[0mimg\u001b[0m \u001b[1;33m=\u001b[0m \u001b[0mimage\u001b[0m\u001b[1;33m.\u001b[0m\u001b[0mload_img\u001b[0m\u001b[1;33m(\u001b[0m\u001b[0mimg_path\u001b[0m\u001b[1;33m,\u001b[0m \u001b[0mtarget_size\u001b[0m\u001b[1;33m=\u001b[0m\u001b[1;33m(\u001b[0m\u001b[1;36m224\u001b[0m\u001b[1;33m,\u001b[0m\u001b[1;36m224\u001b[0m\u001b[1;33m)\u001b[0m\u001b[1;33m)\u001b[0m\u001b[1;33m\u001b[0m\u001b[1;33m\u001b[0m\u001b[0m\n\u001b[0m\u001b[0;32m      2\u001b[0m \u001b[0mx\u001b[0m\u001b[1;33m=\u001b[0m \u001b[0mimage\u001b[0m\u001b[1;33m.\u001b[0m\u001b[0mimg_to_array\u001b[0m\u001b[1;33m(\u001b[0m\u001b[0mimg\u001b[0m\u001b[1;33m)\u001b[0m\u001b[1;33m\u001b[0m\u001b[1;33m\u001b[0m\u001b[0m\n\u001b[0;32m      3\u001b[0m \u001b[0mx\u001b[0m\u001b[1;33m=\u001b[0m \u001b[0mnp\u001b[0m\u001b[1;33m.\u001b[0m\u001b[0mexpand_dims\u001b[0m\u001b[1;33m(\u001b[0m\u001b[0mx\u001b[0m\u001b[1;33m,\u001b[0m \u001b[0maxis\u001b[0m\u001b[1;33m=\u001b[0m\u001b[1;36m0\u001b[0m\u001b[1;33m)\u001b[0m\u001b[1;33m\u001b[0m\u001b[1;33m\u001b[0m\u001b[0m\n\u001b[0;32m      4\u001b[0m \u001b[0mx\u001b[0m\u001b[1;33m=\u001b[0m \u001b[0mpreprocess_input\u001b[0m\u001b[1;33m(\u001b[0m\u001b[0mx\u001b[0m\u001b[1;33m)\u001b[0m\u001b[1;33m\u001b[0m\u001b[1;33m\u001b[0m\u001b[0m\n\u001b[0;32m      5\u001b[0m \u001b[1;33m\u001b[0m\u001b[0m\n",
      "\u001b[1;31mNameError\u001b[0m: name 'img_path' is not defined"
     ]
    }
   ],
   "source": [
    "img = image.load_img(img_path, target_size=(224,224))\n",
    "x= image.img_to_array(img)\n",
    "x= np.expand_dims(x, axis=0)\n",
    "x= preprocess_input(x)\n",
    "\n",
    "preds= model.predict(x)"
   ]
  },
  {
   "cell_type": "code",
   "execution_count": 8,
   "id": "given-central",
   "metadata": {},
   "outputs": [
    {
     "ename": "ModuleNotFoundError",
     "evalue": "No module named 'sklearn'",
     "output_type": "error",
     "traceback": [
      "\u001b[1;31m---------------------------------------------------------------------------\u001b[0m",
      "\u001b[1;31mModuleNotFoundError\u001b[0m                       Traceback (most recent call last)",
      "\u001b[1;32m<ipython-input-8-f858ec4b6523>\u001b[0m in \u001b[0;36m<module>\u001b[1;34m\u001b[0m\n\u001b[1;32m----> 1\u001b[1;33m \u001b[1;32mfrom\u001b[0m \u001b[0msklearn\u001b[0m\u001b[1;33m.\u001b[0m\u001b[0mtree\u001b[0m \u001b[1;32mimport\u001b[0m \u001b[0mexport_graphviz\u001b[0m\u001b[1;33m\u001b[0m\u001b[1;33m\u001b[0m\u001b[0m\n\u001b[0m",
      "\u001b[1;31mModuleNotFoundError\u001b[0m: No module named 'sklearn'"
     ]
    }
   ],
   "source": [
    "from sklearn.tree import export_graphviz"
   ]
  },
  {
   "cell_type": "code",
   "execution_count": 9,
   "id": "micro-safety",
   "metadata": {},
   "outputs": [
    {
     "name": "stdout",
     "output_type": "stream",
     "text": [
      "Collecting sklearn\n",
      "  Downloading sklearn-0.0.tar.gz (1.1 kB)\n",
      "Collecting scikit-learn\n",
      "  Downloading scikit_learn-0.24.1-cp38-cp38-win_amd64.whl (6.9 MB)\n",
      "Requirement already satisfied: numpy>=1.13.3 in c:\\users\\ab\\appdata\\local\\programs\\python\\python38\\lib\\site-packages (from scikit-learn->sklearn) (1.19.5)\n",
      "Requirement already satisfied: scipy>=0.19.1 in c:\\users\\ab\\appdata\\local\\programs\\python\\python38\\lib\\site-packages (from scikit-learn->sklearn) (1.6.1)\n",
      "Collecting threadpoolctl>=2.0.0\n",
      "  Downloading threadpoolctl-2.1.0-py3-none-any.whl (12 kB)\n",
      "Collecting joblib>=0.11\n",
      "  Downloading joblib-1.0.1-py3-none-any.whl (303 kB)\n",
      "Building wheels for collected packages: sklearn\n",
      "  Building wheel for sklearn (setup.py): started\n",
      "  Building wheel for sklearn (setup.py): finished with status 'done'\n",
      "  Created wheel for sklearn: filename=sklearn-0.0-py2.py3-none-any.whl size=1316 sha256=d49f3482f6b2c2f58bcc746adb5fe3c9a742af041f7b750cc89ebf970876d77b\n",
      "  Stored in directory: c:\\users\\ab\\appdata\\local\\pip\\cache\\wheels\\22\\0b\\40\\fd3f795caaa1fb4c6cb738bc1f56100be1e57da95849bfc897\n",
      "Successfully built sklearn\n",
      "Installing collected packages: threadpoolctl, joblib, scikit-learn, sklearn\n",
      "Successfully installed joblib-1.0.1 scikit-learn-0.24.1 sklearn-0.0 threadpoolctl-2.1.0\n",
      "Note: you may need to restart the kernel to use updated packages.\n"
     ]
    }
   ],
   "source": [
    "pip install sklearn\n"
   ]
  },
  {
   "cell_type": "code",
   "execution_count": 10,
   "id": "floppy-fight",
   "metadata": {},
   "outputs": [
    {
     "name": "stdout",
     "output_type": "stream",
     "text": [
      "Requirement already satisfied: scipy in c:\\users\\ab\\appdata\\local\\programs\\python\\python38\\lib\\site-packages (1.6.1)\n",
      "Requirement already satisfied: numpy>=1.16.5 in c:\\users\\ab\\appdata\\local\\programs\\python\\python38\\lib\\site-packages (from scipy) (1.19.5)\n",
      "Note: you may need to restart the kernel to use updated packages.\n"
     ]
    }
   ],
   "source": [
    "pip install scipy"
   ]
  },
  {
   "cell_type": "code",
   "execution_count": 11,
   "id": "associate-sequence",
   "metadata": {},
   "outputs": [],
   "source": [
    "from sklearn.tree import export_graphviz"
   ]
  },
  {
   "cell_type": "code",
   "execution_count": 12,
   "id": "physical-mining",
   "metadata": {},
   "outputs": [
    {
     "ename": "NameError",
     "evalue": "name 'img_path' is not defined",
     "output_type": "error",
     "traceback": [
      "\u001b[1;31m---------------------------------------------------------------------------\u001b[0m",
      "\u001b[1;31mNameError\u001b[0m                                 Traceback (most recent call last)",
      "\u001b[1;32m<ipython-input-12-724b40196fa7>\u001b[0m in \u001b[0;36m<module>\u001b[1;34m\u001b[0m\n\u001b[1;32m----> 1\u001b[1;33m \u001b[0mimg\u001b[0m \u001b[1;33m=\u001b[0m \u001b[0mimage\u001b[0m\u001b[1;33m.\u001b[0m\u001b[0mload_img\u001b[0m\u001b[1;33m(\u001b[0m\u001b[0mimg_path\u001b[0m\u001b[1;33m,\u001b[0m \u001b[0mtarget_size\u001b[0m\u001b[1;33m=\u001b[0m\u001b[1;33m(\u001b[0m\u001b[1;36m224\u001b[0m\u001b[1;33m,\u001b[0m\u001b[1;36m224\u001b[0m\u001b[1;33m)\u001b[0m\u001b[1;33m)\u001b[0m\u001b[1;33m\u001b[0m\u001b[1;33m\u001b[0m\u001b[0m\n\u001b[0m\u001b[0;32m      2\u001b[0m \u001b[0mx\u001b[0m\u001b[1;33m=\u001b[0m \u001b[0mimage\u001b[0m\u001b[1;33m.\u001b[0m\u001b[0mimg_to_array\u001b[0m\u001b[1;33m(\u001b[0m\u001b[0mimg\u001b[0m\u001b[1;33m)\u001b[0m\u001b[1;33m\u001b[0m\u001b[1;33m\u001b[0m\u001b[0m\n\u001b[0;32m      3\u001b[0m \u001b[0mx\u001b[0m\u001b[1;33m=\u001b[0m \u001b[0mnp\u001b[0m\u001b[1;33m.\u001b[0m\u001b[0mexpand_dims\u001b[0m\u001b[1;33m(\u001b[0m\u001b[0mx\u001b[0m\u001b[1;33m,\u001b[0m \u001b[0maxis\u001b[0m\u001b[1;33m=\u001b[0m\u001b[1;36m0\u001b[0m\u001b[1;33m)\u001b[0m\u001b[1;33m\u001b[0m\u001b[1;33m\u001b[0m\u001b[0m\n\u001b[0;32m      4\u001b[0m \u001b[0mx\u001b[0m\u001b[1;33m=\u001b[0m \u001b[0mpreprocess_input\u001b[0m\u001b[1;33m(\u001b[0m\u001b[0mx\u001b[0m\u001b[1;33m)\u001b[0m\u001b[1;33m\u001b[0m\u001b[1;33m\u001b[0m\u001b[0m\n\u001b[0;32m      5\u001b[0m \u001b[1;33m\u001b[0m\u001b[0m\n",
      "\u001b[1;31mNameError\u001b[0m: name 'img_path' is not defined"
     ]
    }
   ],
   "source": [
    "img = image.load_img(img_path, target_size=(224,224))\n",
    "x= image.img_to_array(img)\n",
    "x= np.expand_dims(x, axis=0)\n",
    "x= preprocess_input(x)\n",
    "\n",
    "preds= model.predict(x)"
   ]
  },
  {
   "cell_type": "code",
   "execution_count": 13,
   "id": "specific-nature",
   "metadata": {},
   "outputs": [],
   "source": [
    "img_path= r'C:\\Users\\ab\\Pictures\\pitbull.jpg'"
   ]
  },
  {
   "cell_type": "code",
   "execution_count": 14,
   "id": "official-johns",
   "metadata": {},
   "outputs": [
    {
     "ename": "NameError",
     "evalue": "name 'np' is not defined",
     "output_type": "error",
     "traceback": [
      "\u001b[1;31m---------------------------------------------------------------------------\u001b[0m",
      "\u001b[1;31mNameError\u001b[0m                                 Traceback (most recent call last)",
      "\u001b[1;32m<ipython-input-14-724b40196fa7>\u001b[0m in \u001b[0;36m<module>\u001b[1;34m\u001b[0m\n\u001b[0;32m      1\u001b[0m \u001b[0mimg\u001b[0m \u001b[1;33m=\u001b[0m \u001b[0mimage\u001b[0m\u001b[1;33m.\u001b[0m\u001b[0mload_img\u001b[0m\u001b[1;33m(\u001b[0m\u001b[0mimg_path\u001b[0m\u001b[1;33m,\u001b[0m \u001b[0mtarget_size\u001b[0m\u001b[1;33m=\u001b[0m\u001b[1;33m(\u001b[0m\u001b[1;36m224\u001b[0m\u001b[1;33m,\u001b[0m\u001b[1;36m224\u001b[0m\u001b[1;33m)\u001b[0m\u001b[1;33m)\u001b[0m\u001b[1;33m\u001b[0m\u001b[1;33m\u001b[0m\u001b[0m\n\u001b[0;32m      2\u001b[0m \u001b[0mx\u001b[0m\u001b[1;33m=\u001b[0m \u001b[0mimage\u001b[0m\u001b[1;33m.\u001b[0m\u001b[0mimg_to_array\u001b[0m\u001b[1;33m(\u001b[0m\u001b[0mimg\u001b[0m\u001b[1;33m)\u001b[0m\u001b[1;33m\u001b[0m\u001b[1;33m\u001b[0m\u001b[0m\n\u001b[1;32m----> 3\u001b[1;33m \u001b[0mx\u001b[0m\u001b[1;33m=\u001b[0m \u001b[0mnp\u001b[0m\u001b[1;33m.\u001b[0m\u001b[0mexpand_dims\u001b[0m\u001b[1;33m(\u001b[0m\u001b[0mx\u001b[0m\u001b[1;33m,\u001b[0m \u001b[0maxis\u001b[0m\u001b[1;33m=\u001b[0m\u001b[1;36m0\u001b[0m\u001b[1;33m)\u001b[0m\u001b[1;33m\u001b[0m\u001b[1;33m\u001b[0m\u001b[0m\n\u001b[0m\u001b[0;32m      4\u001b[0m \u001b[0mx\u001b[0m\u001b[1;33m=\u001b[0m \u001b[0mpreprocess_input\u001b[0m\u001b[1;33m(\u001b[0m\u001b[0mx\u001b[0m\u001b[1;33m)\u001b[0m\u001b[1;33m\u001b[0m\u001b[1;33m\u001b[0m\u001b[0m\n\u001b[0;32m      5\u001b[0m \u001b[1;33m\u001b[0m\u001b[0m\n",
      "\u001b[1;31mNameError\u001b[0m: name 'np' is not defined"
     ]
    }
   ],
   "source": [
    "img = image.load_img(img_path, target_size=(224,224))\n",
    "x= image.img_to_array(img)\n",
    "x= np.expand_dims(x, axis=0)\n",
    "x= preprocess_input(x)\n",
    "\n",
    "preds= model.predict(x)"
   ]
  },
  {
   "cell_type": "code",
   "execution_count": 15,
   "id": "corresponding-symbol",
   "metadata": {},
   "outputs": [],
   "source": [
    "import numpy as np\n"
   ]
  },
  {
   "cell_type": "code",
   "execution_count": 16,
   "id": "breathing-barcelona",
   "metadata": {},
   "outputs": [
    {
     "ename": "NameError",
     "evalue": "name 'preprocess_input' is not defined",
     "output_type": "error",
     "traceback": [
      "\u001b[1;31m---------------------------------------------------------------------------\u001b[0m",
      "\u001b[1;31mNameError\u001b[0m                                 Traceback (most recent call last)",
      "\u001b[1;32m<ipython-input-16-724b40196fa7>\u001b[0m in \u001b[0;36m<module>\u001b[1;34m\u001b[0m\n\u001b[0;32m      2\u001b[0m \u001b[0mx\u001b[0m\u001b[1;33m=\u001b[0m \u001b[0mimage\u001b[0m\u001b[1;33m.\u001b[0m\u001b[0mimg_to_array\u001b[0m\u001b[1;33m(\u001b[0m\u001b[0mimg\u001b[0m\u001b[1;33m)\u001b[0m\u001b[1;33m\u001b[0m\u001b[1;33m\u001b[0m\u001b[0m\n\u001b[0;32m      3\u001b[0m \u001b[0mx\u001b[0m\u001b[1;33m=\u001b[0m \u001b[0mnp\u001b[0m\u001b[1;33m.\u001b[0m\u001b[0mexpand_dims\u001b[0m\u001b[1;33m(\u001b[0m\u001b[0mx\u001b[0m\u001b[1;33m,\u001b[0m \u001b[0maxis\u001b[0m\u001b[1;33m=\u001b[0m\u001b[1;36m0\u001b[0m\u001b[1;33m)\u001b[0m\u001b[1;33m\u001b[0m\u001b[1;33m\u001b[0m\u001b[0m\n\u001b[1;32m----> 4\u001b[1;33m \u001b[0mx\u001b[0m\u001b[1;33m=\u001b[0m \u001b[0mpreprocess_input\u001b[0m\u001b[1;33m(\u001b[0m\u001b[0mx\u001b[0m\u001b[1;33m)\u001b[0m\u001b[1;33m\u001b[0m\u001b[1;33m\u001b[0m\u001b[0m\n\u001b[0m\u001b[0;32m      5\u001b[0m \u001b[1;33m\u001b[0m\u001b[0m\n\u001b[0;32m      6\u001b[0m \u001b[0mpreds\u001b[0m\u001b[1;33m=\u001b[0m \u001b[0mmodel\u001b[0m\u001b[1;33m.\u001b[0m\u001b[0mpredict\u001b[0m\u001b[1;33m(\u001b[0m\u001b[0mx\u001b[0m\u001b[1;33m)\u001b[0m\u001b[1;33m\u001b[0m\u001b[1;33m\u001b[0m\u001b[0m\n",
      "\u001b[1;31mNameError\u001b[0m: name 'preprocess_input' is not defined"
     ]
    }
   ],
   "source": [
    "img = image.load_img(img_path, target_size=(224,224))\n",
    "x= image.img_to_array(img)\n",
    "x= np.expand_dims(x, axis=0)\n",
    "x= preprocess_input(x)\n",
    "\n",
    "preds= model.predict(x)"
   ]
  },
  {
   "cell_type": "code",
   "execution_count": 17,
   "id": "logical-helen",
   "metadata": {},
   "outputs": [],
   "source": [
    "from keras.applications.resnet50 import preprocess_input, decode_predictions\n"
   ]
  },
  {
   "cell_type": "code",
   "execution_count": 18,
   "id": "auburn-papua",
   "metadata": {},
   "outputs": [
    {
     "ename": "NameError",
     "evalue": "name 'model' is not defined",
     "output_type": "error",
     "traceback": [
      "\u001b[1;31m---------------------------------------------------------------------------\u001b[0m",
      "\u001b[1;31mNameError\u001b[0m                                 Traceback (most recent call last)",
      "\u001b[1;32m<ipython-input-18-724b40196fa7>\u001b[0m in \u001b[0;36m<module>\u001b[1;34m\u001b[0m\n\u001b[0;32m      4\u001b[0m \u001b[0mx\u001b[0m\u001b[1;33m=\u001b[0m \u001b[0mpreprocess_input\u001b[0m\u001b[1;33m(\u001b[0m\u001b[0mx\u001b[0m\u001b[1;33m)\u001b[0m\u001b[1;33m\u001b[0m\u001b[1;33m\u001b[0m\u001b[0m\n\u001b[0;32m      5\u001b[0m \u001b[1;33m\u001b[0m\u001b[0m\n\u001b[1;32m----> 6\u001b[1;33m \u001b[0mpreds\u001b[0m\u001b[1;33m=\u001b[0m \u001b[0mmodel\u001b[0m\u001b[1;33m.\u001b[0m\u001b[0mpredict\u001b[0m\u001b[1;33m(\u001b[0m\u001b[0mx\u001b[0m\u001b[1;33m)\u001b[0m\u001b[1;33m\u001b[0m\u001b[1;33m\u001b[0m\u001b[0m\n\u001b[0m",
      "\u001b[1;31mNameError\u001b[0m: name 'model' is not defined"
     ]
    }
   ],
   "source": [
    "img = image.load_img(img_path, target_size=(224,224))\n",
    "x= image.img_to_array(img)\n",
    "x= np.expand_dims(x, axis=0)\n",
    "x= preprocess_input(x)\n",
    "\n",
    "preds= model.predict(x)"
   ]
  },
  {
   "cell_type": "code",
   "execution_count": 19,
   "id": "transparent-portsmouth",
   "metadata": {},
   "outputs": [
    {
     "ename": "NameError",
     "evalue": "name 'ResNet50' is not defined",
     "output_type": "error",
     "traceback": [
      "\u001b[1;31m---------------------------------------------------------------------------\u001b[0m",
      "\u001b[1;31mNameError\u001b[0m                                 Traceback (most recent call last)",
      "\u001b[1;32m<ipython-input-19-1dd5e4c1ec14>\u001b[0m in \u001b[0;36m<module>\u001b[1;34m\u001b[0m\n\u001b[1;32m----> 1\u001b[1;33m \u001b[0mmodel\u001b[0m \u001b[1;33m=\u001b[0m \u001b[0mResNet50\u001b[0m\u001b[1;33m(\u001b[0m\u001b[0mweights\u001b[0m\u001b[1;33m=\u001b[0m\u001b[1;34m'imagenet'\u001b[0m\u001b[1;33m)\u001b[0m\u001b[1;33m\u001b[0m\u001b[1;33m\u001b[0m\u001b[0m\n\u001b[0m",
      "\u001b[1;31mNameError\u001b[0m: name 'ResNet50' is not defined"
     ]
    }
   ],
   "source": [
    "model = ResNet50(weights='imagenet')"
   ]
  },
  {
   "cell_type": "code",
   "execution_count": 20,
   "id": "demanding-phoenix",
   "metadata": {},
   "outputs": [],
   "source": [
    "from keras.applications.resnet50 import ResNet50"
   ]
  },
  {
   "cell_type": "code",
   "execution_count": 21,
   "id": "solar-sucking",
   "metadata": {},
   "outputs": [],
   "source": [
    "model = ResNet50(weights='imagenet')"
   ]
  },
  {
   "cell_type": "code",
   "execution_count": 22,
   "id": "determined-coupon",
   "metadata": {},
   "outputs": [],
   "source": [
    "img = image.load_img(img_path, target_size=(224,224))\n",
    "x= image.img_to_array(img)\n",
    "x= np.expand_dims(x, axis=0)\n",
    "x= preprocess_input(x)\n",
    "\n",
    "preds= model.predict(x)"
   ]
  },
  {
   "cell_type": "code",
   "execution_count": 23,
   "id": "respected-boards",
   "metadata": {},
   "outputs": [
    {
     "data": {
      "text/plain": [
       "array([[7.94269206e-10, 9.33684380e-11, 4.42961112e-10, 3.14642090e-09,\n",
       "        5.81835080e-10, 5.03404707e-10, 1.40459686e-10, 1.66938623e-08,\n",
       "        1.03259685e-08, 4.44279419e-10, 5.61010162e-11, 8.44141215e-11,\n",
       "        1.17794871e-10, 5.26588183e-11, 2.85866712e-11, 7.55019589e-11,\n",
       "        8.97468558e-11, 1.60566022e-11, 8.85988560e-10, 5.89214224e-12,\n",
       "        6.40655862e-11, 5.59921109e-10, 3.66073755e-10, 2.54165791e-08,\n",
       "        7.08216819e-11, 6.86121021e-11, 9.02227945e-11, 2.46479989e-11,\n",
       "        1.07864190e-10, 1.49168761e-10, 2.32834502e-10, 5.03782953e-11,\n",
       "        1.29138394e-10, 1.76443016e-09, 4.18153095e-10, 1.19640120e-09,\n",
       "        4.10896961e-09, 8.75883588e-10, 1.36373979e-09, 1.04550191e-09,\n",
       "        1.66590717e-11, 7.10003889e-10, 1.83104434e-11, 1.80294307e-10,\n",
       "        8.28247249e-10, 1.78479276e-09, 1.16074346e-11, 1.72509548e-10,\n",
       "        1.34815770e-09, 2.47726256e-10, 4.19325373e-11, 4.30953442e-08,\n",
       "        9.84199805e-11, 2.52283212e-11, 1.88699376e-10, 7.01717351e-10,\n",
       "        2.40082981e-10, 8.29937299e-11, 4.83074310e-11, 2.45990728e-10,\n",
       "        1.69065906e-09, 1.45023227e-09, 1.32401001e-09, 3.36483019e-09,\n",
       "        1.41822387e-10, 4.04568073e-10, 1.90853533e-09, 1.25948141e-09,\n",
       "        2.98343350e-10, 2.70795275e-10, 5.49958828e-11, 6.64242106e-10,\n",
       "        2.93017832e-11, 2.34460645e-10, 6.99021188e-11, 2.97855351e-11,\n",
       "        2.89833518e-10, 2.92305555e-11, 6.30977603e-10, 4.17814283e-10,\n",
       "        1.63114022e-09, 1.90801389e-10, 2.16389173e-09, 1.26335498e-09,\n",
       "        3.60786234e-10, 6.12536619e-11, 7.80151588e-09, 1.63074210e-09,\n",
       "        1.70400916e-10, 7.41017026e-10, 3.08938375e-10, 1.86731169e-11,\n",
       "        6.07483204e-12, 2.02663841e-11, 4.74403537e-11, 6.18969893e-12,\n",
       "        3.73884257e-12, 7.77873321e-10, 1.70836997e-10, 4.82731233e-09,\n",
       "        3.14806403e-10, 6.51914389e-09, 1.37736189e-09, 1.47492768e-10,\n",
       "        1.81202026e-10, 2.18894392e-09, 1.05244958e-07, 6.95476066e-10,\n",
       "        1.89070468e-10, 2.94215319e-10, 4.40329335e-11, 8.81377870e-12,\n",
       "        2.15437868e-09, 2.35293923e-10, 9.98046923e-11, 2.28086425e-10,\n",
       "        8.86493517e-11, 5.03689729e-11, 1.85297289e-09, 9.73160885e-10,\n",
       "        4.29907672e-11, 1.16701815e-09, 2.02517225e-09, 2.08420683e-10,\n",
       "        2.72210060e-10, 1.80818205e-09, 7.51201934e-10, 1.87476770e-10,\n",
       "        6.16365431e-11, 2.90817960e-11, 1.02193899e-10, 4.70315670e-12,\n",
       "        7.56869133e-12, 6.31908276e-11, 3.91937420e-11, 8.05772116e-12,\n",
       "        2.84282958e-10, 9.88027368e-11, 4.58795169e-10, 2.98187502e-10,\n",
       "        2.48561501e-11, 7.24231786e-12, 5.84816267e-12, 1.62642358e-10,\n",
       "        1.87302701e-10, 1.81507809e-10, 1.93978791e-10, 4.10084640e-11,\n",
       "        1.77198048e-10, 3.12171344e-10, 4.90691443e-09, 5.16719865e-07,\n",
       "        5.56718183e-09, 5.02688247e-09, 1.95478655e-09, 2.59680508e-08,\n",
       "        5.70538150e-09, 4.88294627e-10, 1.14918004e-08, 9.81855337e-05,\n",
       "        9.15100218e-10, 4.18930277e-08, 2.39557323e-07, 1.70917104e-07,\n",
       "        1.11866016e-09, 1.82430782e-09, 9.86422144e-09, 7.70076358e-09,\n",
       "        5.40369705e-08, 1.34267306e-10, 1.60894302e-08, 3.38660762e-08,\n",
       "        6.74148666e-08, 9.45122054e-07, 9.07256992e-10, 1.72569536e-09,\n",
       "        4.25719432e-10, 4.83016738e-09, 1.03895741e-06, 6.81422502e-02,\n",
       "        9.30810332e-01, 1.08774112e-09, 2.93996408e-07, 2.84330803e-09,\n",
       "        3.11692716e-08, 1.45798552e-07, 1.63397544e-07, 2.15139035e-08,\n",
       "        1.50956350e-08, 1.29021402e-07, 2.88182167e-09, 1.56733435e-08,\n",
       "        2.59341455e-08, 8.78064498e-07, 6.19094498e-10, 4.43999443e-06,\n",
       "        1.05463736e-08, 3.40645059e-08, 2.64786095e-08, 1.22585742e-09,\n",
       "        1.88985030e-06, 2.38348505e-08, 4.67868695e-08, 2.22687913e-08,\n",
       "        8.14369017e-08, 1.30810318e-09, 3.99329991e-08, 3.50590597e-08,\n",
       "        2.63341371e-06, 5.52912570e-06, 8.32735623e-08, 1.36702067e-06,\n",
       "        6.41522258e-09, 3.22189009e-09, 2.10339302e-09, 1.22038171e-06,\n",
       "        1.81998274e-07, 7.14790147e-08, 5.15528988e-08, 2.78701350e-07,\n",
       "        1.27967121e-06, 3.53322616e-09, 2.98984948e-09, 4.99024644e-09,\n",
       "        6.17261020e-10, 4.52678606e-09, 3.55102148e-09, 2.21546070e-05,\n",
       "        5.21700105e-09, 2.10101643e-08, 9.95418192e-10, 3.53039873e-08,\n",
       "        3.31951497e-08, 2.51446757e-08, 3.25271253e-06, 1.88283145e-09,\n",
       "        6.03947171e-07, 1.89640858e-07, 2.25262520e-05, 6.65936284e-08,\n",
       "        3.56534514e-07, 9.59535100e-07, 2.46482959e-04, 5.94888232e-04,\n",
       "        1.35305811e-08, 1.82048097e-05, 2.04292451e-06, 2.79384071e-08,\n",
       "        5.76612322e-08, 1.65860714e-09, 5.89533578e-08, 1.61326128e-07,\n",
       "        9.33816580e-10, 5.87949387e-07, 3.93755037e-08, 5.23714794e-10,\n",
       "        1.33514916e-07, 6.50347021e-09, 3.89918631e-09, 5.24116472e-10,\n",
       "        3.20391990e-07, 1.44592269e-10, 1.43766599e-08, 4.80182916e-09,\n",
       "        1.83924822e-08, 3.80957355e-09, 3.41542039e-09, 2.84368920e-08,\n",
       "        1.31558835e-07, 3.81951054e-10, 1.16770552e-10, 5.27038635e-10,\n",
       "        3.79146194e-11, 2.78873102e-07, 5.46955814e-10, 2.28705588e-09,\n",
       "        1.94853751e-08, 9.04157374e-11, 1.19777677e-11, 2.09295900e-10,\n",
       "        6.85664442e-11, 1.00867110e-08, 2.80744619e-08, 1.99113370e-09,\n",
       "        1.70996411e-10, 1.77654407e-08, 3.81299037e-09, 2.67545486e-10,\n",
       "        2.77873569e-09, 4.14556271e-11, 4.69050789e-08, 8.91387675e-09,\n",
       "        2.15043023e-08, 1.74428208e-10, 1.30489166e-08, 1.63134561e-09,\n",
       "        1.72608372e-09, 1.21549508e-08, 1.11921927e-09, 9.27858290e-10,\n",
       "        1.07064035e-09, 2.21624455e-11, 1.21435140e-10, 2.89786528e-10,\n",
       "        5.68461805e-11, 5.53399992e-10, 2.46837634e-10, 9.43668754e-12,\n",
       "        1.01349658e-11, 3.86162838e-11, 1.15036522e-10, 2.63679578e-10,\n",
       "        1.04118358e-09, 8.12114376e-10, 1.90972876e-10, 1.68651954e-10,\n",
       "        5.78623482e-10, 5.42931013e-11, 6.43426762e-12, 1.48345086e-10,\n",
       "        2.78636489e-11, 1.31082978e-10, 3.60378880e-11, 1.82036088e-11,\n",
       "        2.96224091e-12, 6.46326256e-11, 1.45148997e-11, 1.40396472e-10,\n",
       "        3.65655756e-10, 5.02361867e-11, 8.75652675e-11, 3.31587778e-11,\n",
       "        2.90686669e-10, 2.48441240e-10, 1.66363756e-10, 2.06751810e-10,\n",
       "        2.10510064e-11, 5.24501498e-10, 7.19547355e-09, 3.90708891e-07,\n",
       "        6.50778897e-09, 3.66711856e-06, 6.01765606e-08, 2.31724027e-08,\n",
       "        7.94384107e-07, 2.96184197e-07, 9.90341409e-09, 9.22066312e-10,\n",
       "        6.75699541e-09, 2.92289526e-10, 8.82029561e-10, 1.43307879e-10,\n",
       "        2.33497582e-10, 2.10915688e-10, 1.49596374e-07, 2.00007078e-09,\n",
       "        4.35863479e-09, 5.38444489e-09, 1.75252668e-09, 2.14558238e-09,\n",
       "        7.68385688e-10, 1.46906967e-08, 1.75425585e-09, 3.02314440e-08,\n",
       "        1.07703006e-10, 2.75193007e-10, 3.96516819e-10, 1.59969804e-09,\n",
       "        4.81848329e-12, 1.51768806e-11, 1.41983980e-10, 3.36744160e-10,\n",
       "        1.17461763e-09, 2.30753283e-08, 1.48937057e-10, 3.79058000e-11,\n",
       "        1.19822985e-10, 5.53585788e-10, 8.83458973e-10, 1.19511873e-10,\n",
       "        7.47880868e-10, 1.11720966e-10, 3.69291986e-10, 3.78493237e-10,\n",
       "        6.81528584e-11, 1.16897752e-07, 1.38972842e-08, 4.81533424e-11,\n",
       "        9.97965044e-11, 6.81608547e-09, 5.49454815e-10, 4.77895723e-10,\n",
       "        1.98099551e-10, 2.58449252e-11, 1.59329416e-09, 1.29563560e-09,\n",
       "        2.19376614e-10, 3.76038034e-10, 1.59395386e-09, 1.20626775e-09,\n",
       "        6.15819284e-10, 3.24999611e-10, 3.88708066e-10, 7.85349355e-11,\n",
       "        2.66397095e-11, 2.12551776e-09, 1.78523196e-09, 1.19623911e-09,\n",
       "        1.14899756e-09, 2.36307668e-10, 1.08843012e-09, 9.02639352e-11,\n",
       "        1.93832896e-08, 1.37792167e-09, 1.16498384e-08, 3.19989790e-09,\n",
       "        4.26503943e-09, 3.24380629e-08, 4.69421516e-11, 1.65803149e-09,\n",
       "        3.87113097e-09, 3.42470319e-09, 7.29445526e-09, 9.61390412e-10,\n",
       "        2.34402969e-10, 3.39570185e-08, 1.25867217e-09, 5.17875776e-07,\n",
       "        4.18005186e-08, 1.32858613e-09, 1.82030024e-09, 6.41984632e-10,\n",
       "        2.81898505e-10, 2.00635975e-09, 1.02187183e-08, 5.61005420e-09,\n",
       "        6.65408728e-10, 2.11337015e-09, 7.37266970e-10, 2.13046858e-10,\n",
       "        3.50137319e-09, 1.79590132e-09, 6.33159691e-10, 7.10937531e-10,\n",
       "        3.56059116e-09, 3.35835448e-09, 5.85304166e-11, 4.69228378e-10,\n",
       "        2.54647992e-09, 4.50708271e-09, 2.49529353e-09, 1.70104431e-10,\n",
       "        9.39972766e-10, 3.42301165e-09, 3.00970776e-10, 7.07609582e-10,\n",
       "        1.92188332e-09, 3.72985198e-09, 3.79265952e-09, 1.24564881e-09,\n",
       "        3.96135258e-09, 2.93630037e-10, 1.75826642e-08, 5.70849750e-08,\n",
       "        5.67891741e-11, 3.47909879e-09, 1.37273293e-09, 2.60373723e-09,\n",
       "        1.17235022e-09, 9.40977785e-09, 8.64514349e-10, 1.53761732e-08,\n",
       "        3.49749563e-09, 6.55260846e-11, 1.35230591e-10, 1.10594156e-09,\n",
       "        1.44092738e-08, 5.43825436e-11, 2.39096498e-09, 4.18400647e-09,\n",
       "        6.32916997e-10, 9.05216874e-11, 5.58193387e-11, 3.63427488e-09,\n",
       "        9.87342097e-10, 1.03943642e-11, 3.23225391e-10, 3.32800210e-09,\n",
       "        1.63430658e-10, 1.08483267e-08, 4.89981389e-10, 4.60720218e-09,\n",
       "        3.21481702e-10, 1.73979742e-09, 1.59650265e-10, 7.27795546e-10,\n",
       "        6.26733998e-10, 8.32076275e-09, 2.99166891e-09, 1.83306614e-09,\n",
       "        1.90542560e-09, 1.99278261e-09, 2.09619086e-10, 1.66315545e-10,\n",
       "        3.65467678e-09, 5.86378335e-10, 6.39884679e-09, 1.06564028e-10,\n",
       "        1.39019696e-09, 3.58352237e-10, 5.71026615e-10, 5.41810929e-10,\n",
       "        4.61872596e-10, 5.76475367e-10, 5.78862469e-08, 8.82939446e-08,\n",
       "        1.33833489e-09, 3.19501892e-09, 1.28410682e-09, 1.39225492e-07,\n",
       "        2.05436246e-09, 1.88266180e-10, 2.56041517e-08, 8.16071211e-09,\n",
       "        9.23920673e-09, 2.00024997e-09, 7.98227040e-10, 8.56862289e-11,\n",
       "        8.75723327e-10, 1.63612739e-07, 1.33637323e-09, 1.77733869e-10,\n",
       "        9.19561871e-10, 1.26542110e-10, 8.40783276e-10, 9.85174581e-11,\n",
       "        2.76085821e-09, 6.06544015e-09, 8.27451885e-09, 2.13121979e-07,\n",
       "        7.03894276e-10, 2.12325690e-09, 1.79811790e-10, 2.54993697e-08,\n",
       "        2.27364660e-09, 1.58549326e-10, 1.08635136e-10, 2.36338882e-09,\n",
       "        7.19901194e-10, 1.03890430e-09, 4.28930752e-10, 2.54103960e-10,\n",
       "        1.10402798e-09, 2.84352497e-09, 3.57158775e-10, 2.51036902e-09,\n",
       "        4.38205827e-09, 2.56583554e-09, 6.52385479e-10, 2.76909584e-09,\n",
       "        3.76762427e-10, 7.70117392e-09, 6.80890366e-08, 1.77209445e-11,\n",
       "        1.69437700e-10, 9.57783364e-09, 1.20201821e-10, 2.96800140e-10,\n",
       "        1.12740595e-09, 2.61974797e-09, 3.21211568e-09, 1.02643649e-09,\n",
       "        9.70053038e-10, 4.38413576e-11, 1.27471989e-08, 2.05214082e-10,\n",
       "        1.21183633e-10, 3.65366648e-09, 3.41308093e-10, 2.79341716e-10,\n",
       "        1.81290361e-08, 3.55756175e-10, 9.01961728e-10, 1.47653278e-09,\n",
       "        5.07973663e-10, 1.36462897e-10, 2.66641764e-10, 7.41771178e-09,\n",
       "        4.29076010e-08, 1.04347531e-10, 1.08240097e-10, 1.10477349e-09,\n",
       "        2.06534928e-11, 6.98821612e-10, 7.98325961e-10, 4.54057858e-09,\n",
       "        1.08373666e-08, 6.80850376e-11, 4.41777968e-11, 1.05275577e-09,\n",
       "        6.81859180e-10, 3.99433181e-10, 8.47589821e-09, 1.49592381e-07,\n",
       "        5.09048581e-09, 4.08365314e-10, 2.33458836e-10, 1.45494568e-08,\n",
       "        6.19790386e-10, 2.56810728e-09, 2.46853316e-09, 5.45777146e-10,\n",
       "        2.37693287e-09, 6.48845908e-11, 6.89081348e-10, 6.66510358e-09,\n",
       "        4.93420471e-10, 5.28322885e-10, 2.62262129e-10, 1.66592462e-09,\n",
       "        1.95488359e-09, 1.90468530e-08, 1.36282707e-09, 3.15809982e-11,\n",
       "        7.14386461e-09, 1.40331491e-09, 4.07550417e-11, 1.29759106e-10,\n",
       "        5.50670787e-10, 3.07823038e-11, 5.14788316e-11, 3.03930259e-09,\n",
       "        4.90349761e-10, 8.96859392e-11, 1.09525566e-07, 3.45668716e-10,\n",
       "        3.63406683e-09, 1.41168064e-08, 3.43420736e-09, 5.99338912e-10,\n",
       "        3.83059251e-10, 3.25769189e-10, 5.20532950e-10, 6.31571506e-09,\n",
       "        1.93011482e-10, 4.37948289e-10, 4.47908697e-08, 6.48252507e-10,\n",
       "        4.32467881e-11, 5.48681189e-09, 1.19226823e-10, 6.96552399e-11,\n",
       "        5.76759396e-09, 8.88273277e-09, 6.16252882e-10, 1.51813251e-09,\n",
       "        8.23804247e-10, 1.71782022e-09, 4.26658882e-11, 7.64220132e-10,\n",
       "        3.31501493e-09, 7.76454789e-10, 2.17382189e-11, 1.71207637e-09,\n",
       "        6.63960886e-10, 2.54252952e-09, 6.03766903e-09, 1.58635616e-09,\n",
       "        3.11132431e-09, 4.44763532e-10, 3.16754262e-10, 8.52864723e-10,\n",
       "        6.99529767e-10, 1.26839331e-10, 2.86098673e-10, 5.13903697e-10,\n",
       "        5.15892680e-07, 1.99108796e-09, 3.56742280e-09, 2.62389069e-11,\n",
       "        1.66663028e-09, 1.55982405e-09, 2.44793585e-09, 2.47287690e-10,\n",
       "        3.76863041e-10, 5.13127700e-11, 5.98414512e-11, 3.28013117e-10,\n",
       "        2.25828953e-10, 9.29021804e-10, 1.32086271e-08, 1.62019176e-09,\n",
       "        1.49175094e-09, 3.22167515e-09, 1.38872069e-09, 3.39815398e-10,\n",
       "        1.56982549e-09, 8.76597239e-10, 1.17208474e-08, 7.32186978e-10,\n",
       "        5.97258576e-10, 2.70038258e-09, 7.55237828e-09, 3.05740393e-08,\n",
       "        9.23851440e-10, 3.12484238e-09, 5.30913224e-09, 5.50432677e-09,\n",
       "        8.89777407e-09, 1.07046683e-09, 1.26904498e-09, 2.15186827e-10,\n",
       "        1.00534338e-10, 4.98132424e-10, 3.02724269e-11, 3.18941568e-10,\n",
       "        3.76862737e-08, 6.41284581e-10, 1.87076168e-08, 7.46834303e-07,\n",
       "        1.92714711e-09, 1.59581848e-09, 1.21625803e-08, 2.47583593e-10,\n",
       "        1.29216060e-09, 7.07234760e-09, 3.81333048e-10, 1.99603489e-09,\n",
       "        1.10530740e-08, 9.74578551e-09, 2.95473637e-08, 3.92124733e-09,\n",
       "        2.26363678e-10, 7.92884602e-09, 1.13300214e-09, 1.16662424e-09,\n",
       "        1.77401791e-08, 9.91794646e-10, 5.89853766e-09, 1.30498812e-09,\n",
       "        1.10510867e-09, 4.24641877e-09, 2.00204672e-10, 6.28339691e-08,\n",
       "        5.24015809e-09, 2.57817066e-11, 8.50590320e-10, 5.45241585e-09,\n",
       "        1.03277310e-10, 5.39460865e-10, 5.39248468e-08, 2.28505312e-10,\n",
       "        1.71052363e-08, 1.63885550e-09, 6.35984654e-10, 7.37446992e-10,\n",
       "        2.48027561e-07, 3.30121530e-09, 9.65950542e-10, 7.30114691e-10,\n",
       "        1.14747534e-09, 1.43906176e-09, 2.42163123e-10, 3.24291205e-10,\n",
       "        4.92408780e-10, 1.42611087e-08, 1.65008751e-09, 2.04416359e-10,\n",
       "        1.19073029e-09, 2.12442375e-09, 7.27703897e-10, 4.22711116e-10,\n",
       "        3.94203073e-11, 4.33872049e-09, 1.62347608e-10, 3.73491371e-09,\n",
       "        2.32780753e-10, 5.52034751e-10, 1.56173519e-09, 5.65383873e-09,\n",
       "        7.51864526e-09, 7.73088427e-10, 6.89883539e-10, 3.03296582e-10,\n",
       "        9.72159131e-10, 7.40843564e-09, 4.89164320e-10, 1.35739038e-08,\n",
       "        2.51792875e-11, 1.09312426e-08, 9.88431736e-09, 8.56126370e-09,\n",
       "        1.12685834e-08, 7.68800934e-09, 9.55323487e-10, 3.44593104e-10,\n",
       "        1.29781697e-09, 5.73546233e-09, 5.92303318e-10, 1.89612006e-08,\n",
       "        8.08263040e-11, 3.36563888e-09, 1.81556978e-10, 7.93762972e-11,\n",
       "        3.01065639e-09, 3.47833264e-07, 4.78102669e-10, 2.02922923e-08,\n",
       "        1.62894622e-08, 7.22969323e-11, 4.77360929e-10, 5.59440281e-08,\n",
       "        1.03586517e-09, 2.04010586e-09, 2.32312364e-10, 3.87392091e-10,\n",
       "        2.49724436e-10, 1.60299884e-10, 1.34627420e-09, 4.78020623e-10,\n",
       "        2.32776887e-09, 4.81794826e-09, 5.95740035e-09, 6.68018141e-10,\n",
       "        3.82126636e-10, 5.35731814e-09, 4.46833126e-10, 1.10779519e-09,\n",
       "        1.03223261e-08, 2.01858530e-09, 1.48021262e-09, 7.18292625e-09,\n",
       "        4.08774659e-09, 5.93796401e-10, 1.63596037e-09, 6.26865804e-09,\n",
       "        4.09927869e-09, 4.74988004e-09, 2.04076862e-08, 7.36939343e-10,\n",
       "        9.79643699e-10, 3.88034938e-09, 1.52389497e-08, 9.61689750e-09,\n",
       "        2.30356387e-10, 4.37677700e-10, 6.74015566e-10, 8.32285407e-10,\n",
       "        1.74234696e-10, 7.01187497e-10, 3.39401822e-08, 3.45284068e-09,\n",
       "        7.34837542e-08, 3.47433105e-09, 1.33275613e-09, 1.24431909e-09,\n",
       "        2.93117761e-08, 2.82632473e-09, 8.51108517e-09, 5.43813272e-10,\n",
       "        2.27974772e-09, 6.21240226e-10, 2.80921120e-10, 2.62573585e-09,\n",
       "        1.50666521e-10, 6.37673336e-09, 1.72324572e-08, 2.94418667e-09,\n",
       "        2.28409158e-09, 1.10377887e-10, 9.54982871e-10, 9.04134961e-11,\n",
       "        2.31429742e-09, 3.83675136e-09, 2.23950622e-10, 3.32267880e-10,\n",
       "        1.52872246e-07, 2.89564428e-10, 6.97859617e-11, 8.78061890e-09,\n",
       "        1.86021454e-09, 1.86523841e-09, 1.35195333e-09, 9.42990042e-09,\n",
       "        2.37797693e-08, 2.43932718e-09, 4.56489013e-10, 4.47119591e-10,\n",
       "        2.70223244e-09, 5.93300575e-10, 9.33208177e-09, 2.11192647e-10,\n",
       "        4.94845498e-10, 9.65751160e-11, 1.48525442e-10, 1.20861154e-10,\n",
       "        3.78224035e-10, 1.29950384e-09, 6.73827287e-08, 4.66723993e-09,\n",
       "        6.08522033e-09, 1.37876277e-09, 2.78264856e-10, 1.85134419e-09,\n",
       "        3.49485463e-09, 9.79882842e-10, 4.00876443e-10, 3.59805763e-09,\n",
       "        6.67130309e-11, 6.49366283e-10, 1.04844391e-08, 7.27391647e-10,\n",
       "        1.63895493e-06, 8.73306760e-09, 8.33802402e-11, 1.67089613e-08,\n",
       "        7.64261276e-09, 2.26968644e-09, 1.25876809e-09, 4.82696239e-09,\n",
       "        5.62653257e-10, 6.99827363e-10, 1.06981507e-10, 1.00952890e-09,\n",
       "        7.79609294e-11, 7.47983273e-11, 4.24874969e-10, 3.56746188e-10,\n",
       "        2.96697822e-09, 1.42854191e-08, 7.53091312e-10, 1.81410900e-10,\n",
       "        3.22185323e-09, 8.03783151e-11, 3.93709593e-10, 3.35859618e-10,\n",
       "        5.16047161e-09, 5.70358032e-11, 1.64989866e-09, 1.44216938e-09,\n",
       "        1.97489136e-10, 7.81528786e-10, 9.08902398e-10, 8.42392892e-11,\n",
       "        1.29430422e-09, 4.81575682e-11, 2.56665661e-10, 8.73629502e-10,\n",
       "        7.06445735e-10, 2.74820427e-11, 1.52617100e-10, 7.17785609e-10,\n",
       "        3.38100370e-09, 2.06368075e-10, 2.59244265e-10, 3.75767722e-10,\n",
       "        6.59464913e-11, 5.30842093e-10, 2.70445089e-08, 1.43900891e-10,\n",
       "        1.76300707e-09, 1.67510106e-09, 7.80320808e-10, 4.79414668e-11,\n",
       "        1.18352939e-10, 3.83152038e-10, 3.64714237e-09, 1.66039141e-10,\n",
       "        1.56768998e-08, 1.06560767e-10, 1.51770985e-09, 9.40408995e-09,\n",
       "        1.76296000e-09, 8.91666074e-10, 9.42701806e-10, 7.69713964e-08,\n",
       "        8.38384417e-10, 4.10047711e-08, 5.47005357e-08, 2.20240803e-09,\n",
       "        4.34294073e-10, 7.24104110e-10, 2.74619855e-10, 1.33765865e-09,\n",
       "        2.43255771e-09, 1.93659005e-10, 3.11376099e-11, 7.41260564e-09,\n",
       "        5.79682802e-10, 4.44453779e-11, 2.98076186e-09, 1.43368303e-10,\n",
       "        5.78377138e-11, 1.15695176e-09, 3.39931416e-10, 1.03982212e-09,\n",
       "        7.38373085e-10, 6.41346629e-11, 5.17742871e-09, 1.90458982e-09]],\n",
       "      dtype=float32)"
      ]
     },
     "execution_count": 23,
     "metadata": {},
     "output_type": "execute_result"
    }
   ],
   "source": [
    "preds"
   ]
  },
  {
   "cell_type": "code",
   "execution_count": 24,
   "id": "acoustic-equilibrium",
   "metadata": {},
   "outputs": [
    {
     "name": "stdout",
     "output_type": "stream",
     "text": [
      "Downloading data from https://storage.googleapis.com/download.tensorflow.org/data/imagenet_class_index.json\n",
      "40960/35363 [==================================] - 0s 0us/step\n",
      "Predicted: [('n02093428', 'American_Staffordshire_terrier', 0.93081033), ('n02093256', 'Staffordshire_bullterrier', 0.06814225), ('n02108422', 'bull_mastiff', 0.00059488823)]\n"
     ]
    }
   ],
   "source": [
    "print('Predicted:', decode_predictions(preds, top=3)[0])"
   ]
  },
  {
   "cell_type": "code",
   "execution_count": null,
   "id": "pressing-crazy",
   "metadata": {},
   "outputs": [],
   "source": []
  }
 ],
 "metadata": {
  "kernelspec": {
   "display_name": "Python 3",
   "language": "python",
   "name": "python3"
  },
  "language_info": {
   "codemirror_mode": {
    "name": "ipython",
    "version": 3
   },
   "file_extension": ".py",
   "mimetype": "text/x-python",
   "name": "python",
   "nbconvert_exporter": "python",
   "pygments_lexer": "ipython3",
   "version": "3.8.0"
  }
 },
 "nbformat": 4,
 "nbformat_minor": 5
}
